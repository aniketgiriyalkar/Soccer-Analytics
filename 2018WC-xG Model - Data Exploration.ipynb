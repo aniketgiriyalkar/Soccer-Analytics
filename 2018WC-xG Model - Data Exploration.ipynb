{
 "cells": [
  {
   "cell_type": "markdown",
   "metadata": {},
   "source": [
    "Importing required modules"
   ]
  },
  {
   "cell_type": "code",
   "execution_count": 1,
   "metadata": {},
   "outputs": [],
   "source": [
    "import matplotlib.pyplot as plt\n",
    "import numpy as np\n",
    "import pandas as pd\n",
    "import seaborn as sns\n",
    "\n",
    "plt.style.use('fivethirtyeight')"
   ]
  },
  {
   "cell_type": "markdown",
   "metadata": {},
   "source": [
    "Read the pickled dataframe"
   ]
  },
  {
   "cell_type": "code",
   "execution_count": 2,
   "metadata": {},
   "outputs": [
    {
     "data": {
      "text/html": [
       "<div>\n",
       "<style scoped>\n",
       "    .dataframe tbody tr th:only-of-type {\n",
       "        vertical-align: middle;\n",
       "    }\n",
       "\n",
       "    .dataframe tbody tr th {\n",
       "        vertical-align: top;\n",
       "    }\n",
       "\n",
       "    .dataframe thead th {\n",
       "        text-align: right;\n",
       "    }\n",
       "</style>\n",
       "<table border=\"1\" class=\"dataframe\">\n",
       "  <thead>\n",
       "    <tr style=\"text-align: right;\">\n",
       "      <th></th>\n",
       "      <th>shot_x</th>\n",
       "      <th>shot_y</th>\n",
       "      <th>shot_distance</th>\n",
       "      <th>shot_a</th>\n",
       "      <th>shot_b</th>\n",
       "      <th>shot_angle</th>\n",
       "      <th>timestamp</th>\n",
       "      <th>outcome_name</th>\n",
       "      <th>outcome_id</th>\n",
       "      <th>body_part_name</th>\n",
       "      <th>...</th>\n",
       "      <th>pack_density</th>\n",
       "      <th>shot_player</th>\n",
       "      <th>home_or_away</th>\n",
       "      <th>key_pass_type</th>\n",
       "      <th>key_pass_pattern</th>\n",
       "      <th>isCross</th>\n",
       "      <th>isCutback</th>\n",
       "      <th>preceding_event_player</th>\n",
       "      <th>preceding_event_team</th>\n",
       "      <th>statsbomb_xg</th>\n",
       "    </tr>\n",
       "  </thead>\n",
       "  <tbody>\n",
       "    <tr>\n",
       "      <th>0</th>\n",
       "      <td>97.0</td>\n",
       "      <td>53.0</td>\n",
       "      <td>26.4</td>\n",
       "      <td>28.600699</td>\n",
       "      <td>24.698178</td>\n",
       "      <td>15.1</td>\n",
       "      <td>2020-04-18 00:04:17.267</td>\n",
       "      <td>Off T</td>\n",
       "      <td>98</td>\n",
       "      <td>Right Foot</td>\n",
       "      <td>...</td>\n",
       "      <td>2</td>\n",
       "      <td>Mile Jedinak</td>\n",
       "      <td>home</td>\n",
       "      <td>None</td>\n",
       "      <td>None</td>\n",
       "      <td>False</td>\n",
       "      <td>False</td>\n",
       "      <td>Mile Jedinak</td>\n",
       "      <td>Australia</td>\n",
       "      <td>0.032260</td>\n",
       "    </tr>\n",
       "    <tr>\n",
       "      <th>1</th>\n",
       "      <td>95.0</td>\n",
       "      <td>46.0</td>\n",
       "      <td>25.7</td>\n",
       "      <td>26.925824</td>\n",
       "      <td>25.079872</td>\n",
       "      <td>17.2</td>\n",
       "      <td>2020-04-18 00:11:27.587</td>\n",
       "      <td>Blocked</td>\n",
       "      <td>96</td>\n",
       "      <td>Left Foot</td>\n",
       "      <td>...</td>\n",
       "      <td>3</td>\n",
       "      <td>Tom RogiÄ‡</td>\n",
       "      <td>home</td>\n",
       "      <td>Ground Pass</td>\n",
       "      <td>From Throw In</td>\n",
       "      <td>False</td>\n",
       "      <td>False</td>\n",
       "      <td>Tom RogiÄ‡</td>\n",
       "      <td>Australia</td>\n",
       "      <td>0.049563</td>\n",
       "    </tr>\n",
       "    <tr>\n",
       "      <th>2</th>\n",
       "      <td>104.0</td>\n",
       "      <td>53.0</td>\n",
       "      <td>20.6</td>\n",
       "      <td>23.345235</td>\n",
       "      <td>18.357560</td>\n",
       "      <td>17.4</td>\n",
       "      <td>2020-04-18 00:17:14.547</td>\n",
       "      <td>Goal</td>\n",
       "      <td>97</td>\n",
       "      <td>Right Foot</td>\n",
       "      <td>...</td>\n",
       "      <td>2</td>\n",
       "      <td>AndrÃ© MartÃ­n Carrillo DÃ­az</td>\n",
       "      <td>away</td>\n",
       "      <td>High Pass</td>\n",
       "      <td>Regular Play</td>\n",
       "      <td>False</td>\n",
       "      <td>False</td>\n",
       "      <td>AndrÃ© MartÃ­n Carrillo DÃ­az</td>\n",
       "      <td>Peru</td>\n",
       "      <td>0.035208</td>\n",
       "    </tr>\n",
       "    <tr>\n",
       "      <th>3</th>\n",
       "      <td>112.0</td>\n",
       "      <td>42.0</td>\n",
       "      <td>8.2</td>\n",
       "      <td>10.000000</td>\n",
       "      <td>8.246211</td>\n",
       "      <td>50.9</td>\n",
       "      <td>2020-04-18 00:20:00.707</td>\n",
       "      <td>Wayward</td>\n",
       "      <td>101</td>\n",
       "      <td>Head</td>\n",
       "      <td>...</td>\n",
       "      <td>2</td>\n",
       "      <td>Mathew Leckie</td>\n",
       "      <td>home</td>\n",
       "      <td>High Pass</td>\n",
       "      <td>From Throw In</td>\n",
       "      <td>True</td>\n",
       "      <td>False</td>\n",
       "      <td>Mathew Leckie</td>\n",
       "      <td>Australia</td>\n",
       "      <td>0.129688</td>\n",
       "    </tr>\n",
       "    <tr>\n",
       "      <th>4</th>\n",
       "      <td>109.0</td>\n",
       "      <td>37.0</td>\n",
       "      <td>11.4</td>\n",
       "      <td>11.045361</td>\n",
       "      <td>13.038405</td>\n",
       "      <td>37.7</td>\n",
       "      <td>2020-04-18 00:24:07.787</td>\n",
       "      <td>Saved</td>\n",
       "      <td>100</td>\n",
       "      <td>Head</td>\n",
       "      <td>...</td>\n",
       "      <td>1</td>\n",
       "      <td>JosÃ© Paolo Guerrero GonzÃ¡lez</td>\n",
       "      <td>away</td>\n",
       "      <td>High Pass</td>\n",
       "      <td>From Free Kick</td>\n",
       "      <td>False</td>\n",
       "      <td>False</td>\n",
       "      <td>JosÃ© Paolo Guerrero GonzÃ¡lez</td>\n",
       "      <td>Peru</td>\n",
       "      <td>0.036955</td>\n",
       "    </tr>\n",
       "  </tbody>\n",
       "</table>\n",
       "<p>5 rows × 27 columns</p>\n",
       "</div>"
      ],
      "text/plain": [
       "   shot_x  shot_y  shot_distance     shot_a     shot_b  shot_angle  \\\n",
       "0    97.0    53.0           26.4  28.600699  24.698178        15.1   \n",
       "1    95.0    46.0           25.7  26.925824  25.079872        17.2   \n",
       "2   104.0    53.0           20.6  23.345235  18.357560        17.4   \n",
       "3   112.0    42.0            8.2  10.000000   8.246211        50.9   \n",
       "4   109.0    37.0           11.4  11.045361  13.038405        37.7   \n",
       "\n",
       "                timestamp outcome_name  outcome_id body_part_name  ...  \\\n",
       "0 2020-04-18 00:04:17.267        Off T          98     Right Foot  ...   \n",
       "1 2020-04-18 00:11:27.587      Blocked          96      Left Foot  ...   \n",
       "2 2020-04-18 00:17:14.547         Goal          97     Right Foot  ...   \n",
       "3 2020-04-18 00:20:00.707      Wayward         101           Head  ...   \n",
       "4 2020-04-18 00:24:07.787        Saved         100           Head  ...   \n",
       "\n",
       "   pack_density                     shot_player  home_or_away key_pass_type  \\\n",
       "0             2                    Mile Jedinak          home          None   \n",
       "1             3                      Tom RogiÄ‡          home   Ground Pass   \n",
       "2             2   AndrÃ© MartÃ­n Carrillo DÃ­az          away     High Pass   \n",
       "3             2                   Mathew Leckie          home     High Pass   \n",
       "4             1  JosÃ© Paolo Guerrero GonzÃ¡lez          away     High Pass   \n",
       "\n",
       "   key_pass_pattern  isCross isCutback          preceding_event_player  \\\n",
       "0              None    False     False                    Mile Jedinak   \n",
       "1     From Throw In    False     False                      Tom RogiÄ‡   \n",
       "2      Regular Play    False     False   AndrÃ© MartÃ­n Carrillo DÃ­az   \n",
       "3     From Throw In     True     False                   Mathew Leckie   \n",
       "4    From Free Kick    False     False  JosÃ© Paolo Guerrero GonzÃ¡lez   \n",
       "\n",
       "  preceding_event_team statsbomb_xg  \n",
       "0            Australia     0.032260  \n",
       "1            Australia     0.049563  \n",
       "2                 Peru     0.035208  \n",
       "3            Australia     0.129688  \n",
       "4                 Peru     0.036955  \n",
       "\n",
       "[5 rows x 27 columns]"
      ]
     },
     "execution_count": 2,
     "metadata": {},
     "output_type": "execute_result"
    }
   ],
   "source": [
    "df = pd.read_pickle('./WC2018_preprocessed.pkl')\n",
    "df.head()"
   ]
  },
  {
   "cell_type": "code",
   "execution_count": 3,
   "metadata": {},
   "outputs": [
    {
     "name": "stdout",
     "output_type": "stream",
     "text": [
      "<class 'pandas.core.frame.DataFrame'>\n",
      "Int64Index: 1693 entries, 0 to 1705\n",
      "Data columns (total 27 columns):\n",
      "shot_x                    1693 non-null float64\n",
      "shot_y                    1693 non-null float64\n",
      "shot_distance             1693 non-null float64\n",
      "shot_a                    1693 non-null float64\n",
      "shot_b                    1693 non-null float64\n",
      "shot_angle                1693 non-null float64\n",
      "timestamp                 1693 non-null datetime64[ns]\n",
      "outcome_name              1693 non-null object\n",
      "outcome_id                1693 non-null int64\n",
      "body_part_name            1693 non-null object\n",
      "body_part_id              1693 non-null int64\n",
      "technique_name            1693 non-null object\n",
      "technique_id              1693 non-null int64\n",
      "type_name                 1693 non-null object\n",
      "type_id                   1693 non-null int64\n",
      "first_time                1693 non-null bool\n",
      "preceding_event           1693 non-null object\n",
      "pack_density              1693 non-null int64\n",
      "shot_player               1693 non-null object\n",
      "home_or_away              1693 non-null object\n",
      "key_pass_type             1693 non-null object\n",
      "key_pass_pattern          1693 non-null object\n",
      "isCross                   1693 non-null bool\n",
      "isCutback                 1693 non-null bool\n",
      "preceding_event_player    1693 non-null object\n",
      "preceding_event_team      1693 non-null object\n",
      "statsbomb_xg              1693 non-null float64\n",
      "dtypes: bool(3), datetime64[ns](1), float64(7), int64(5), object(11)\n",
      "memory usage: 335.6+ KB\n"
     ]
    }
   ],
   "source": [
    "df.info()"
   ]
  },
  {
   "cell_type": "code",
   "execution_count": 4,
   "metadata": {},
   "outputs": [
    {
     "data": {
      "text/html": [
       "<div>\n",
       "<style scoped>\n",
       "    .dataframe tbody tr th:only-of-type {\n",
       "        vertical-align: middle;\n",
       "    }\n",
       "\n",
       "    .dataframe tbody tr th {\n",
       "        vertical-align: top;\n",
       "    }\n",
       "\n",
       "    .dataframe thead th {\n",
       "        text-align: right;\n",
       "    }\n",
       "</style>\n",
       "<table border=\"1\" class=\"dataframe\">\n",
       "  <thead>\n",
       "    <tr style=\"text-align: right;\">\n",
       "      <th></th>\n",
       "      <th>shot_x</th>\n",
       "      <th>shot_y</th>\n",
       "      <th>shot_distance</th>\n",
       "      <th>shot_a</th>\n",
       "      <th>shot_b</th>\n",
       "      <th>shot_angle</th>\n",
       "      <th>outcome_id</th>\n",
       "      <th>body_part_id</th>\n",
       "      <th>technique_id</th>\n",
       "      <th>type_id</th>\n",
       "      <th>pack_density</th>\n",
       "      <th>statsbomb_xg</th>\n",
       "    </tr>\n",
       "  </thead>\n",
       "  <tbody>\n",
       "    <tr>\n",
       "      <th>count</th>\n",
       "      <td>1693.000000</td>\n",
       "      <td>1693.000000</td>\n",
       "      <td>1693.000000</td>\n",
       "      <td>1693.000000</td>\n",
       "      <td>1693.000000</td>\n",
       "      <td>1693.00000</td>\n",
       "      <td>1693.000000</td>\n",
       "      <td>1693.000000</td>\n",
       "      <td>1693.000000</td>\n",
       "      <td>1693.000000</td>\n",
       "      <td>1693.000000</td>\n",
       "      <td>1693.000000</td>\n",
       "    </tr>\n",
       "    <tr>\n",
       "      <th>mean</th>\n",
       "      <td>103.988777</td>\n",
       "      <td>40.196692</td>\n",
       "      <td>18.991849</td>\n",
       "      <td>19.425723</td>\n",
       "      <td>19.353092</td>\n",
       "      <td>25.81583</td>\n",
       "      <td>97.991731</td>\n",
       "      <td>39.110455</td>\n",
       "      <td>92.964560</td>\n",
       "      <td>85.856468</td>\n",
       "      <td>1.943887</td>\n",
       "      <td>0.107934</td>\n",
       "    </tr>\n",
       "    <tr>\n",
       "      <th>std</th>\n",
       "      <td>8.723246</td>\n",
       "      <td>10.262843</td>\n",
       "      <td>8.773455</td>\n",
       "      <td>8.830211</td>\n",
       "      <td>8.811464</td>\n",
       "      <td>16.95245</td>\n",
       "      <td>1.634419</td>\n",
       "      <td>3.079171</td>\n",
       "      <td>0.830091</td>\n",
       "      <td>5.317914</td>\n",
       "      <td>1.308200</td>\n",
       "      <td>0.168671</td>\n",
       "    </tr>\n",
       "    <tr>\n",
       "      <th>min</th>\n",
       "      <td>59.000000</td>\n",
       "      <td>13.000000</td>\n",
       "      <td>1.400000</td>\n",
       "      <td>1.000000</td>\n",
       "      <td>1.414214</td>\n",
       "      <td>2.40000</td>\n",
       "      <td>96.000000</td>\n",
       "      <td>37.000000</td>\n",
       "      <td>89.000000</td>\n",
       "      <td>62.000000</td>\n",
       "      <td>0.000000</td>\n",
       "      <td>0.006575</td>\n",
       "    </tr>\n",
       "    <tr>\n",
       "      <th>25%</th>\n",
       "      <td>97.000000</td>\n",
       "      <td>33.000000</td>\n",
       "      <td>11.700000</td>\n",
       "      <td>12.083046</td>\n",
       "      <td>12.000000</td>\n",
       "      <td>14.50000</td>\n",
       "      <td>96.000000</td>\n",
       "      <td>38.000000</td>\n",
       "      <td>93.000000</td>\n",
       "      <td>87.000000</td>\n",
       "      <td>1.000000</td>\n",
       "      <td>0.024862</td>\n",
       "    </tr>\n",
       "    <tr>\n",
       "      <th>50%</th>\n",
       "      <td>105.000000</td>\n",
       "      <td>40.000000</td>\n",
       "      <td>18.000000</td>\n",
       "      <td>18.601075</td>\n",
       "      <td>18.601075</td>\n",
       "      <td>19.50000</td>\n",
       "      <td>98.000000</td>\n",
       "      <td>40.000000</td>\n",
       "      <td>93.000000</td>\n",
       "      <td>87.000000</td>\n",
       "      <td>2.000000</td>\n",
       "      <td>0.045896</td>\n",
       "    </tr>\n",
       "    <tr>\n",
       "      <th>75%</th>\n",
       "      <td>111.000000</td>\n",
       "      <td>48.000000</td>\n",
       "      <td>25.500000</td>\n",
       "      <td>26.172505</td>\n",
       "      <td>25.806976</td>\n",
       "      <td>33.70000</td>\n",
       "      <td>100.000000</td>\n",
       "      <td>40.000000</td>\n",
       "      <td>93.000000</td>\n",
       "      <td>87.000000</td>\n",
       "      <td>2.000000</td>\n",
       "      <td>0.103757</td>\n",
       "    </tr>\n",
       "    <tr>\n",
       "      <th>max</th>\n",
       "      <td>119.000000</td>\n",
       "      <td>69.000000</td>\n",
       "      <td>61.500000</td>\n",
       "      <td>61.131007</td>\n",
       "      <td>62.169124</td>\n",
       "      <td>150.30000</td>\n",
       "      <td>101.000000</td>\n",
       "      <td>70.000000</td>\n",
       "      <td>95.000000</td>\n",
       "      <td>88.000000</td>\n",
       "      <td>10.000000</td>\n",
       "      <td>0.948846</td>\n",
       "    </tr>\n",
       "  </tbody>\n",
       "</table>\n",
       "</div>"
      ],
      "text/plain": [
       "            shot_x       shot_y  shot_distance       shot_a       shot_b  \\\n",
       "count  1693.000000  1693.000000    1693.000000  1693.000000  1693.000000   \n",
       "mean    103.988777    40.196692      18.991849    19.425723    19.353092   \n",
       "std       8.723246    10.262843       8.773455     8.830211     8.811464   \n",
       "min      59.000000    13.000000       1.400000     1.000000     1.414214   \n",
       "25%      97.000000    33.000000      11.700000    12.083046    12.000000   \n",
       "50%     105.000000    40.000000      18.000000    18.601075    18.601075   \n",
       "75%     111.000000    48.000000      25.500000    26.172505    25.806976   \n",
       "max     119.000000    69.000000      61.500000    61.131007    62.169124   \n",
       "\n",
       "       shot_angle   outcome_id  body_part_id  technique_id      type_id  \\\n",
       "count  1693.00000  1693.000000   1693.000000   1693.000000  1693.000000   \n",
       "mean     25.81583    97.991731     39.110455     92.964560    85.856468   \n",
       "std      16.95245     1.634419      3.079171      0.830091     5.317914   \n",
       "min       2.40000    96.000000     37.000000     89.000000    62.000000   \n",
       "25%      14.50000    96.000000     38.000000     93.000000    87.000000   \n",
       "50%      19.50000    98.000000     40.000000     93.000000    87.000000   \n",
       "75%      33.70000   100.000000     40.000000     93.000000    87.000000   \n",
       "max     150.30000   101.000000     70.000000     95.000000    88.000000   \n",
       "\n",
       "       pack_density  statsbomb_xg  \n",
       "count   1693.000000   1693.000000  \n",
       "mean       1.943887      0.107934  \n",
       "std        1.308200      0.168671  \n",
       "min        0.000000      0.006575  \n",
       "25%        1.000000      0.024862  \n",
       "50%        2.000000      0.045896  \n",
       "75%        2.000000      0.103757  \n",
       "max       10.000000      0.948846  "
      ]
     },
     "execution_count": 4,
     "metadata": {},
     "output_type": "execute_result"
    }
   ],
   "source": [
    "df.describe()"
   ]
  },
  {
   "cell_type": "markdown",
   "metadata": {},
   "source": [
    "Plotting all the shot locations on the pitch. The following code is used to create a football pitch."
   ]
  },
  {
   "cell_type": "code",
   "execution_count": 9,
   "metadata": {},
   "outputs": [],
   "source": [
    "from matplotlib.patches import Arc\n",
    "\n",
    "# plotting shots on to a pitch\n",
    "\n",
    "def pitch_creator(size=(10,6)):\n",
    "    with plt.style.context('bmh'):\n",
    "        fig = plt.figure(figsize=size)\n",
    "        plt.axis([60, 125, -10, 90])\n",
    "        plt.grid(False)\n",
    "\n",
    "\n",
    "        plt.plot([60, 60], [0, 80], color='black')\n",
    "        plt.plot([120, 120], [0, 80], color=\"black\")\n",
    "        plt.plot([60, 120], [0, 0], color='black')\n",
    "        plt.plot([60, 120], [80, 80], color='black')\n",
    "\n",
    "        centreCircle = plt.Circle((60, 40), 10, color='black', fill=False)\n",
    "\n",
    "        # right penalty area\n",
    "        plt.plot([120, 102], [18, 18], color='black')\n",
    "        plt.plot([102, 102], [18, 62], color='black')\n",
    "        plt.plot([102, 120], [62, 62], color='black')\n",
    "\n",
    "        # right six yard box\n",
    "        plt.plot([120, 114], [30, 30], color='black')\n",
    "        plt.plot([114, 114], [30, 50], color='black')\n",
    "        plt.plot([114, 120], [50, 50], color='black')\n",
    "\n",
    "\n",
    "        # right goal posts\n",
    "        plt.plot([120, 122], [36, 36], color='black')\n",
    "        plt.plot([120, 122], [44, 44], color='black')\n",
    "        plt.plot([122, 122], [36, 44], color='black')\n",
    "\n",
    "\n",
    "        # right Arc\n",
    "        rightArc = Arc((108, 40), height=18.3, width=18.3, angle=0,\n",
    "                       theta1=130, theta2=230, color='red')\n",
    "\n",
    "        ax = plt.gca()\n",
    "        ax.add_patch(centreCircle)\n",
    "        ax.add_patch(rightArc)\n",
    "        ax.set_ylim(ax.get_ylim()[::-1])\n",
    "        return fig\n",
    "\n",
    "def plotter(fig,loc_list,color,label):\n",
    "    \n",
    "    loc_x=[]\n",
    "    loc_y=[]\n",
    "    for loc in loc_list:\n",
    "        loc_x.append(loc[0])\n",
    "        loc_y.append(loc[1])\n",
    "            \n",
    "    plt.scatter(loc_x,loc_y,c=color,alpha='0.6',label=label,edgecolor='black',linewidth=0.4)\n",
    "    plt.axis('off')\n",
    "    \n",
    "    \n",
    "    return fig"
   ]
  },
  {
   "cell_type": "code",
   "execution_count": 10,
   "metadata": {},
   "outputs": [
    {
     "data": {
      "image/png": "[encoded data removed]",
      "text/plain": [
       "<Figure size 720x432 with 1 Axes>"
      ]
     },
     "metadata": {
      "needs_background": "light"
     },
     "output_type": "display_data"
    }
   ],
   "source": [
    "#plotting all data\n",
    "plt1 = pitch_creator()\n",
    "plt1 = plotter(plt,df[['shot_x','shot_y']].values,'blue','shots')\n",
    "plt1 = plotter(plt,df[df['outcome_name']=='Goal'][['shot_x','shot_y']].values,'red','goals')\n",
    "plt.legend(loc='upper right')\n",
    "# plt.show()\n",
    "plt.savefig('overallpitchmap.png')"
   ]
  },
  {
   "cell_type": "markdown",
   "metadata": {},
   "source": [
    "From the above plot we observe that the goals are scored from shots that are taken closer to the goal. To make it easier to identify goals from shots, we add two more columns to the dataframe, i.e. 'isGoal' and 'isGoalBool'"
   ]
  },
  {
   "cell_type": "code",
   "execution_count": 11,
   "metadata": {},
   "outputs": [],
   "source": [
    "isGoal=[]\n",
    "isGoalBool = []\n",
    "for outcome in df['outcome_name'].values:\n",
    "    if outcome=='Goal':\n",
    "        isGoal.append('Goal')\n",
    "        isGoalBool.append(True)\n",
    "    else:\n",
    "        isGoal.append('Not Goal')\n",
    "        isGoalBool.append(False)"
   ]
  },
  {
   "cell_type": "code",
   "execution_count": 12,
   "metadata": {},
   "outputs": [],
   "source": [
    "df['isGoal']=isGoal\n",
    "df['isGoalBool']=isGoalBool"
   ]
  },
  {
   "cell_type": "markdown",
   "metadata": {},
   "source": [
    "**Exploration based on the hypothesis tree**\n",
    "\n",
    "**Looking at the open play shots**"
   ]
  },
  {
   "cell_type": "code",
   "execution_count": 13,
   "metadata": {},
   "outputs": [
    {
     "data": {
      "text/html": [
       "<div>\n",
       "<style scoped>\n",
       "    .dataframe tbody tr th:only-of-type {\n",
       "        vertical-align: middle;\n",
       "    }\n",
       "\n",
       "    .dataframe tbody tr th {\n",
       "        vertical-align: top;\n",
       "    }\n",
       "\n",
       "    .dataframe thead th {\n",
       "        text-align: right;\n",
       "    }\n",
       "</style>\n",
       "<table border=\"1\" class=\"dataframe\">\n",
       "  <thead>\n",
       "    <tr style=\"text-align: right;\">\n",
       "      <th></th>\n",
       "      <th>shot_x</th>\n",
       "      <th>shot_y</th>\n",
       "      <th>shot_distance</th>\n",
       "      <th>shot_a</th>\n",
       "      <th>shot_b</th>\n",
       "      <th>shot_angle</th>\n",
       "      <th>timestamp</th>\n",
       "      <th>outcome_name</th>\n",
       "      <th>outcome_id</th>\n",
       "      <th>body_part_name</th>\n",
       "      <th>...</th>\n",
       "      <th>home_or_away</th>\n",
       "      <th>key_pass_type</th>\n",
       "      <th>key_pass_pattern</th>\n",
       "      <th>isCross</th>\n",
       "      <th>isCutback</th>\n",
       "      <th>preceding_event_player</th>\n",
       "      <th>preceding_event_team</th>\n",
       "      <th>statsbomb_xg</th>\n",
       "      <th>isGoal</th>\n",
       "      <th>isGoalBool</th>\n",
       "    </tr>\n",
       "  </thead>\n",
       "  <tbody>\n",
       "    <tr>\n",
       "      <th>0</th>\n",
       "      <td>97.0</td>\n",
       "      <td>53.0</td>\n",
       "      <td>26.4</td>\n",
       "      <td>28.600699</td>\n",
       "      <td>24.698178</td>\n",
       "      <td>15.1</td>\n",
       "      <td>2020-04-18 00:04:17.267</td>\n",
       "      <td>Off T</td>\n",
       "      <td>98</td>\n",
       "      <td>Right Foot</td>\n",
       "      <td>...</td>\n",
       "      <td>home</td>\n",
       "      <td>None</td>\n",
       "      <td>None</td>\n",
       "      <td>False</td>\n",
       "      <td>False</td>\n",
       "      <td>Mile Jedinak</td>\n",
       "      <td>Australia</td>\n",
       "      <td>0.032260</td>\n",
       "      <td>Not Goal</td>\n",
       "      <td>False</td>\n",
       "    </tr>\n",
       "    <tr>\n",
       "      <th>1</th>\n",
       "      <td>95.0</td>\n",
       "      <td>46.0</td>\n",
       "      <td>25.7</td>\n",
       "      <td>26.925824</td>\n",
       "      <td>25.079872</td>\n",
       "      <td>17.2</td>\n",
       "      <td>2020-04-18 00:11:27.587</td>\n",
       "      <td>Blocked</td>\n",
       "      <td>96</td>\n",
       "      <td>Left Foot</td>\n",
       "      <td>...</td>\n",
       "      <td>home</td>\n",
       "      <td>Ground Pass</td>\n",
       "      <td>From Throw In</td>\n",
       "      <td>False</td>\n",
       "      <td>False</td>\n",
       "      <td>Tom RogiÄ‡</td>\n",
       "      <td>Australia</td>\n",
       "      <td>0.049563</td>\n",
       "      <td>Not Goal</td>\n",
       "      <td>False</td>\n",
       "    </tr>\n",
       "    <tr>\n",
       "      <th>2</th>\n",
       "      <td>104.0</td>\n",
       "      <td>53.0</td>\n",
       "      <td>20.6</td>\n",
       "      <td>23.345235</td>\n",
       "      <td>18.357560</td>\n",
       "      <td>17.4</td>\n",
       "      <td>2020-04-18 00:17:14.547</td>\n",
       "      <td>Goal</td>\n",
       "      <td>97</td>\n",
       "      <td>Right Foot</td>\n",
       "      <td>...</td>\n",
       "      <td>away</td>\n",
       "      <td>High Pass</td>\n",
       "      <td>Regular Play</td>\n",
       "      <td>False</td>\n",
       "      <td>False</td>\n",
       "      <td>AndrÃ© MartÃ­n Carrillo DÃ­az</td>\n",
       "      <td>Peru</td>\n",
       "      <td>0.035208</td>\n",
       "      <td>Goal</td>\n",
       "      <td>True</td>\n",
       "    </tr>\n",
       "    <tr>\n",
       "      <th>3</th>\n",
       "      <td>112.0</td>\n",
       "      <td>42.0</td>\n",
       "      <td>8.2</td>\n",
       "      <td>10.000000</td>\n",
       "      <td>8.246211</td>\n",
       "      <td>50.9</td>\n",
       "      <td>2020-04-18 00:20:00.707</td>\n",
       "      <td>Wayward</td>\n",
       "      <td>101</td>\n",
       "      <td>Head</td>\n",
       "      <td>...</td>\n",
       "      <td>home</td>\n",
       "      <td>High Pass</td>\n",
       "      <td>From Throw In</td>\n",
       "      <td>True</td>\n",
       "      <td>False</td>\n",
       "      <td>Mathew Leckie</td>\n",
       "      <td>Australia</td>\n",
       "      <td>0.129688</td>\n",
       "      <td>Not Goal</td>\n",
       "      <td>False</td>\n",
       "    </tr>\n",
       "    <tr>\n",
       "      <th>4</th>\n",
       "      <td>109.0</td>\n",
       "      <td>37.0</td>\n",
       "      <td>11.4</td>\n",
       "      <td>11.045361</td>\n",
       "      <td>13.038405</td>\n",
       "      <td>37.7</td>\n",
       "      <td>2020-04-18 00:24:07.787</td>\n",
       "      <td>Saved</td>\n",
       "      <td>100</td>\n",
       "      <td>Head</td>\n",
       "      <td>...</td>\n",
       "      <td>away</td>\n",
       "      <td>High Pass</td>\n",
       "      <td>From Free Kick</td>\n",
       "      <td>False</td>\n",
       "      <td>False</td>\n",
       "      <td>JosÃ© Paolo Guerrero GonzÃ¡lez</td>\n",
       "      <td>Peru</td>\n",
       "      <td>0.036955</td>\n",
       "      <td>Not Goal</td>\n",
       "      <td>False</td>\n",
       "    </tr>\n",
       "  </tbody>\n",
       "</table>\n",
       "<p>5 rows × 29 columns</p>\n",
       "</div>"
      ],
      "text/plain": [
       "   shot_x  shot_y  shot_distance     shot_a     shot_b  shot_angle  \\\n",
       "0    97.0    53.0           26.4  28.600699  24.698178        15.1   \n",
       "1    95.0    46.0           25.7  26.925824  25.079872        17.2   \n",
       "2   104.0    53.0           20.6  23.345235  18.357560        17.4   \n",
       "3   112.0    42.0            8.2  10.000000   8.246211        50.9   \n",
       "4   109.0    37.0           11.4  11.045361  13.038405        37.7   \n",
       "\n",
       "                timestamp outcome_name  outcome_id body_part_name  ...  \\\n",
       "0 2020-04-18 00:04:17.267        Off T          98     Right Foot  ...   \n",
       "1 2020-04-18 00:11:27.587      Blocked          96      Left Foot  ...   \n",
       "2 2020-04-18 00:17:14.547         Goal          97     Right Foot  ...   \n",
       "3 2020-04-18 00:20:00.707      Wayward         101           Head  ...   \n",
       "4 2020-04-18 00:24:07.787        Saved         100           Head  ...   \n",
       "\n",
       "   home_or_away key_pass_type  key_pass_pattern isCross  isCutback  \\\n",
       "0          home          None              None   False      False   \n",
       "1          home   Ground Pass     From Throw In   False      False   \n",
       "2          away     High Pass      Regular Play   False      False   \n",
       "3          home     High Pass     From Throw In    True      False   \n",
       "4          away     High Pass    From Free Kick   False      False   \n",
       "\n",
       "           preceding_event_player preceding_event_team  statsbomb_xg  \\\n",
       "0                    Mile Jedinak            Australia      0.032260   \n",
       "1                      Tom RogiÄ‡            Australia      0.049563   \n",
       "2   AndrÃ© MartÃ­n Carrillo DÃ­az                 Peru      0.035208   \n",
       "3                   Mathew Leckie            Australia      0.129688   \n",
       "4  JosÃ© Paolo Guerrero GonzÃ¡lez                 Peru      0.036955   \n",
       "\n",
       "     isGoal isGoalBool  \n",
       "0  Not Goal      False  \n",
       "1  Not Goal      False  \n",
       "2      Goal       True  \n",
       "3  Not Goal      False  \n",
       "4  Not Goal      False  \n",
       "\n",
       "[5 rows x 29 columns]"
      ]
     },
     "execution_count": 13,
     "metadata": {},
     "output_type": "execute_result"
    }
   ],
   "source": [
    "#isolation open play shots\n",
    "df_open_play = df[df['type_name']=='Open Play']\n",
    "df_open_play.head()"
   ]
  },
  {
   "cell_type": "code",
   "execution_count": 21,
   "metadata": {
    "scrolled": false
   },
   "outputs": [
    {
     "data": {
      "image/png": "[encoded data removed]",
      "text/plain": [
       "<Figure size 720x432 with 1 Axes>"
      ]
     },
     "metadata": {
      "needs_background": "light"
     },
     "output_type": "display_data"
    }
   ],
   "source": [
    "plt.figure(figsize=(10,6))\n",
    "ax=sns.countplot(y='body_part_name',order=['Right Foot','Left Foot','Head','Other'],hue='isGoal',data=df_open_play, palette = 'RdBu');\n",
    "ax.set(xlabel='No. of shots', ylabel='Name of the body part')\n",
    "plt.title('Open play shots')\n",
    "plt.legend(loc='lower right');\n",
    "plt.tight_layout()\n",
    "plt.savefig('body_part_feature.png')"
   ]
  },
  {
   "cell_type": "markdown",
   "metadata": {},
   "source": [
    "The plot above shows that the amount of footed shots and goals are much higher than headed shots and goals. Let us examine this closer:"
   ]
  },
  {
   "cell_type": "code",
   "execution_count": 22,
   "metadata": {},
   "outputs": [
    {
     "name": "stdout",
     "output_type": "stream",
     "text": [
      "The percentage of footed shots that result in goals is 8.0\n",
      "The percentage of headed shots that result in goals is 10.0\n"
     ]
    }
   ],
   "source": [
    "#isolating footed and headed shots and goals\n",
    "\n",
    "filt1 = (df_open_play['body_part_name']=='Right Foot') | (df_open_play['body_part_name']=='Left Foot')\n",
    "#calculating number of shots\n",
    "footed_shots_count = df_open_play[filt1].shape[0] \n",
    "\n",
    "#isolating footed goals\n",
    "footed_goals_count = sum(df_open_play[filt1]['isGoalBool'])\n",
    "\n",
    "#isolating headed shots\n",
    "filt2 = (df_open_play['body_part_name']=='Head')\n",
    "headed_shots_count = df_open_play[filt2].shape[0]\n",
    "\n",
    "#isolating headed goals\n",
    "headed_goals_count = sum(df_open_play[filt2]['isGoalBool'])\n",
    "\n",
    "footed_pct = footed_goals_count/footed_shots_count\n",
    "headed_pct = headed_goals_count/headed_shots_count\n",
    "\n",
    "print('The percentage of footed shots that result in goals is {0}'.format(round(footed_pct,2)*100))\n",
    "print('The percentage of headed shots that result in goals is {0}'.format(round(headed_pct,2)*100))"
   ]
  },
  {
   "cell_type": "markdown",
   "metadata": {},
   "source": [
    "This is an interesting stat compared to the plot we observed above. I honestly expected the percentage of headed shots conversions to be lesser. Usually, headers are taken from a distance closer to the goal. Let us see if out data verifies this fact."
   ]
  },
  {
   "cell_type": "code",
   "execution_count": 63,
   "metadata": {},
   "outputs": [
    {
     "name": "stderr",
     "output_type": "stream",
     "text": [
      "C:\\Users\\anike\\Anaconda3\\lib\\site-packages\\ipykernel_launcher.py:4: UserWarning: Boolean Series key will be reindexed to match DataFrame index.\n",
      "  after removing the cwd from sys.path.\n",
      "C:\\Users\\anike\\Anaconda3\\lib\\site-packages\\ipykernel_launcher.py:5: UserWarning: Boolean Series key will be reindexed to match DataFrame index.\n",
      "  \"\"\"\n"
     ]
    },
    {
     "data": {
      "image/png": "[encoded data removed]",
      "text/plain": [
       "<Figure size 720x432 with 2 Axes>"
      ]
     },
     "metadata": {
      "needs_background": "light"
     },
     "output_type": "display_data"
    }
   ],
   "source": [
    "fig = plt.figure(figsize=(10,6))\n",
    "ax1 = fig.add_subplot(121)\n",
    "ax2=fig.add_subplot(122)\n",
    "sns.boxplot(x='isGoal',y='shot_distance',data=df_open_play[filt1],ax=ax1, palette = 'RdBu')\n",
    "sns.boxplot(x='isGoal',y='shot_distance',data=df_open_play[filt2],ax=ax2, palette = 'RdBu')\n",
    "ax1.set(ylim=(0,50));\n",
    "ax2.set(ylim=(0,50));\n",
    "ax2.set_ylabel('');\n",
    "ax1.set_xlabel('');\n",
    "ax2.set_xlabel('');\n",
    "# fig.set_ylabel('Distance from which shot was taken')\n",
    "plt.title('Box Plot of Headed and Footed shots')\n",
    "ax1.set_title('Footed Shots');\n",
    "ax2.set_title('Headed Shots');\n",
    "plt.tight_layout()\n",
    "plt.savefig('headed_vs_footed_distance.png')"
   ]
  },
  {
   "cell_type": "markdown",
   "metadata": {},
   "source": [
    "The above box plots show that more footed shots are take from distances farther than the goal. Headed shots on the other hand are taken within the penalty box. This kind of biases the percentage comparision between the shots in the favor of headed shots. To carry out a fair comparision, only headed and footed shots within the penalty area(within 18 yard from the goal) must be compared."
   ]
  },
  {
   "cell_type": "code",
   "execution_count": 27,
   "metadata": {},
   "outputs": [
    {
     "name": "stdout",
     "output_type": "stream",
     "text": [
      "The goal percentage of footed shots at a distance less than 18 yards is 15.8\n",
      "The goal percentage of headed shots at a distance less than 18 yards is 10.6\n"
     ]
    }
   ],
   "source": [
    "#filtering out footed shots taken a distance less than 18 yards\n",
    "filt3 = df_open_play[filt1]['shot_distance']<18\n",
    "footed_pb_shots_count = df_open_play[filt1][filt3].shape[0]\n",
    "footed_pb_goals_count = sum(df_open_play[filt1][filt3]['isGoalBool'])\n",
    "\n",
    "footed_pb_pct = footed_pb_goals_count*100/footed_pb_shots_count\n",
    "\n",
    "#filtering out headed shots taken a distance less than 18 yards\n",
    "filt4 = df_open_play[filt2]['shot_distance']<18\n",
    "headed_pb_shots_count = df_open_play[filt2][filt4].shape[0]\n",
    "headed_pb_goals_count = sum(df_open_play[filt2][filt4]['isGoalBool'])\n",
    "\n",
    "\n",
    "headed_pb_pct = headed_pb_goals_count*100/headed_pb_shots_count\n",
    "\n",
    "print('The goal percentage of footed shots at a distance less than 18 yards is {0}'.format(round(footed_pb_pct,1)))\n",
    "print('The goal percentage of headed shots at a distance less than 18 yards is {0}'.format(round(headed_pb_pct,1)))"
   ]
  },
  {
   "cell_type": "code",
   "execution_count": null,
   "metadata": {},
   "outputs": [],
   "source": []
  },
  {
   "cell_type": "markdown",
   "metadata": {},
   "source": [
    "On a fair comparision between the headed and footed shots, we see that the footed shots are more effective than the footed shots when taken from withing the penalty box.\n",
    "Let us also look at the non open play headed and footed shots:"
   ]
  },
  {
   "cell_type": "code",
   "execution_count": 28,
   "metadata": {},
   "outputs": [],
   "source": [
    "filt=df['type_name']=='Open Play'\n",
    "df_not_open_play = df[~filt]"
   ]
  },
  {
   "cell_type": "code",
   "execution_count": 29,
   "metadata": {},
   "outputs": [
    {
     "ename": "ZeroDivisionError",
     "evalue": "division by zero",
     "output_type": "error",
     "traceback": [
      "\u001b[1;31m---------------------------------------------------------------------------\u001b[0m",
      "\u001b[1;31mZeroDivisionError\u001b[0m                         Traceback (most recent call last)",
      "\u001b[1;32m<ipython-input-29-4eb7112a6118>\u001b[0m in \u001b[0;36m<module>\u001b[1;34m\u001b[0m\n\u001b[0;32m     13\u001b[0m \u001b[0mheaded_pb_goals_count\u001b[0m \u001b[1;33m=\u001b[0m \u001b[0msum\u001b[0m\u001b[1;33m(\u001b[0m\u001b[0mdf_not_open_play\u001b[0m\u001b[1;33m[\u001b[0m\u001b[0mfilt2\u001b[0m\u001b[1;33m]\u001b[0m\u001b[1;33m[\u001b[0m\u001b[0mfilt4\u001b[0m\u001b[1;33m]\u001b[0m\u001b[1;33m[\u001b[0m\u001b[1;34m'isGoalBool'\u001b[0m\u001b[1;33m]\u001b[0m\u001b[1;33m)\u001b[0m\u001b[1;33m\u001b[0m\u001b[1;33m\u001b[0m\u001b[0m\n\u001b[0;32m     14\u001b[0m \u001b[1;33m\u001b[0m\u001b[0m\n\u001b[1;32m---> 15\u001b[1;33m \u001b[0mheaded_pb_pct\u001b[0m \u001b[1;33m=\u001b[0m \u001b[0mheaded_pb_goals_count\u001b[0m\u001b[1;33m*\u001b[0m\u001b[1;36m100\u001b[0m\u001b[1;33m/\u001b[0m\u001b[0mheaded_pb_shots_count\u001b[0m\u001b[1;33m\u001b[0m\u001b[1;33m\u001b[0m\u001b[0m\n\u001b[0m\u001b[0;32m     16\u001b[0m \u001b[1;33m\u001b[0m\u001b[0m\n\u001b[0;32m     17\u001b[0m \u001b[0mprint\u001b[0m\u001b[1;33m(\u001b[0m\u001b[1;34m'The goal percentage of footed shots from non open play at a distance less than 18 yards is {0}'\u001b[0m\u001b[1;33m.\u001b[0m\u001b[0mformat\u001b[0m\u001b[1;33m(\u001b[0m\u001b[0mround\u001b[0m\u001b[1;33m(\u001b[0m\u001b[0mfooted_pb_pct\u001b[0m\u001b[1;33m,\u001b[0m\u001b[1;36m1\u001b[0m\u001b[1;33m)\u001b[0m\u001b[1;33m)\u001b[0m\u001b[1;33m)\u001b[0m\u001b[1;33m\u001b[0m\u001b[1;33m\u001b[0m\u001b[0m\n",
      "\u001b[1;31mZeroDivisionError\u001b[0m: division by zero"
     ]
    }
   ],
   "source": [
    "filt1 = (df_not_open_play['body_part_name']=='Right Foot') | (df_not_open_play['body_part_name']=='Left Foot')\n",
    "filt2 = (df_not_open_play['body_part_name']=='Head')\n",
    "filt3 = df_not_open_play[filt1]['shot_distance']<18\n",
    "filt4 = df_not_open_play[filt2]['shot_distance']<18\n",
    "\n",
    "\n",
    "footed_pb_shots_count = df_not_open_play[filt1][filt3].shape[0]\n",
    "footed_pb_goals_count = sum(df_not_open_play[filt1][filt3]['isGoalBool'])\n",
    "\n",
    "footed_pb_pct = footed_pb_goals_count*100/footed_pb_shots_count\n",
    "\n",
    "headed_pb_shots_count = df_not_open_play[filt2][filt4].shape[0]\n",
    "headed_pb_goals_count = sum(df_not_open_play[filt2][filt4]['isGoalBool'])\n",
    "\n",
    "headed_pb_pct = headed_pb_goals_count*100/headed_pb_shots_count\n",
    "\n",
    "print('The goal percentage of footed shots from non open play at a distance less than 18 yards is {0}'.format(round(footed_pb_pct,1)))\n",
    "print('The goal percentage of headed shots from non open play at a distance less than 18 yards is {0}'.format(round(headed_pb_pct,1)))"
   ]
  },
  {
   "cell_type": "markdown",
   "metadata": {},
   "source": [
    "The zero division error occurs when trying to calculate the headed_pb_pct. This is because any headed shot taken during a part of the freekick or corner routine in the data set is considered as open play since one cannot directly head a ball during a freekick. It needs to have a preceeding pass. The freekick itself cannot be a header."
   ]
  },
  {
   "cell_type": "markdown",
   "metadata": {},
   "source": [
    "**Exploring preceding passes and pass play pattern**\n",
    "\n",
    "As we know from the preprocessing phase, not all shots have preceding pass."
   ]
  },
  {
   "cell_type": "code",
   "execution_count": 34,
   "metadata": {},
   "outputs": [
    {
     "data": {
      "image/png": "[encoded data removed]",
      "text/plain": [
       "<Figure size 720x432 with 1 Axes>"
      ]
     },
     "metadata": {
      "needs_background": "light"
     },
     "output_type": "display_data"
    }
   ],
   "source": [
    "plt.figure(figsize=(10,6))\n",
    "ax=sns.countplot(y='key_pass_type', order=['Ground Pass','High Pass','Low Pass','None'], hue='isGoal',data=df, palette = 'RdBu');\n",
    "plt.legend(loc='lower right');\n",
    "ax.set(xlabel='No. of shots', ylabel='Type of pass')\n",
    "plt.title('Most common types of preceding pass')\n",
    "plt.tight_layout()\n",
    "plt.savefig('key_pass_type.png')"
   ]
  },
  {
   "cell_type": "markdown",
   "metadata": {},
   "source": [
    "Most of the shots have a preceding pass in the dataset. 'Ground Pass' is the most common type followed by 'High Pass' and 'Low Pass'.\n",
    "Definitions of passes according to Statsbomb:\n",
    "\n",
    "'Low Pass' - is a pass below the shoulder level at peak height.\n",
    "\n",
    "'High Pass' - is a pass above the shoulder level \n",
    "\n",
    "'Ground Pass' -  is a pass where ball comes off the ground.\n",
    "\n",
    "Now, let us check if height of pass affects the chances of shot becoming a goal. Looking at the shot conversions following key passes:"
   ]
  },
  {
   "cell_type": "code",
   "execution_count": 35,
   "metadata": {},
   "outputs": [
    {
     "name": "stdout",
     "output_type": "stream",
     "text": [
      "The percentage of shots from low passes which are goals is 8.0\n",
      "The percentage of shots from high passes which are goals is 10.0\n",
      "The percentage of shots from ground passes which are goals is 6.0\n"
     ]
    }
   ],
   "source": [
    "def quant_pct(df,column,value):\n",
    "    filt1 = df[column]==value\n",
    "    df_filt = df[filt1]\n",
    "    value_count = df_filt.shape[0]\n",
    "    goal_count = sum(df_filt['isGoalBool'])\n",
    "    value_pct = goal_count/value_count\n",
    "    return value_pct\n",
    "\n",
    "low_pass_pct = quant_pct(df,'key_pass_type','Low Pass')\n",
    "high_pass_pct = quant_pct(df,'key_pass_type','High Pass')\n",
    "ground_pass_pct = quant_pct(df,'key_pass_type','Ground Pass')\n",
    "\n",
    "print('The percentage of shots from low passes which are goals is {0}'.format(round(low_pass_pct,2)*100))\n",
    "print('The percentage of shots from high passes which are goals is {0}'.format(round(high_pass_pct,2)*100))\n",
    "print('The percentage of shots from ground passes which are goals is {0}'.format(round(ground_pass_pct,2)*100))"
   ]
  },
  {
   "cell_type": "markdown",
   "metadata": {},
   "source": [
    "The least number of goals result from low passes, but goal percentage is better than that of ground passes. Let us examine this in depth. "
   ]
  },
  {
   "cell_type": "code",
   "execution_count": 36,
   "metadata": {},
   "outputs": [
    {
     "data": {
      "image/png": "[encoded data removed]",
      "text/plain": [
       "<Figure size 720x432 with 3 Axes>"
      ]
     },
     "metadata": {
      "needs_background": "light"
     },
     "output_type": "display_data"
    }
   ],
   "source": [
    "filt1 = df['key_pass_type']=='Low Pass'\n",
    "filt2 = df['key_pass_type']=='High Pass'\n",
    "filt3 = df['key_pass_type']=='Ground Pass'\n",
    "low_pass = df[filt1]\n",
    "high_pass = df[filt2]\n",
    "ground_pass = df[filt3]\n",
    "\n",
    "low_pass=low_pass.sort_values(by='isGoal',ascending=False)\n",
    "high_pass=high_pass.sort_values(by='isGoal',ascending=False)\n",
    "ground_pass=ground_pass.sort_values(by='isGoal',ascending=False)\n",
    "\n",
    "fig = plt.figure(figsize=(10,6))\n",
    "ax1 = fig.add_subplot(131)\n",
    "ax2 = fig.add_subplot(132)\n",
    "ax3 = fig.add_subplot(133)\n",
    "sns.boxplot(x='isGoal',y='shot_distance',data=low_pass,ax=ax1, palette = 'RdBu')\n",
    "sns.boxplot(x='isGoal',y='shot_distance',data=high_pass,ax=ax2,  palette = 'RdBu')\n",
    "sns.boxplot(x='isGoal',y='shot_distance',data=ground_pass,ax=ax3, palette = 'RdBu')\n",
    "ax1.set(ylim=(0,50));\n",
    "ax2.set(ylim=(0,50));\n",
    "ax3.set(ylim=(0,50));\n",
    "ax2.set_ylabel('');\n",
    "ax3.set_ylabel('');\n",
    "ax1.set_xlabel('');\n",
    "ax2.set_xlabel('');\n",
    "ax3.set_xlabel('');\n",
    "ax1.set_title('Low Passes');\n",
    "ax2.set_title('High Passes');\n",
    "ax3.set_title('Ground Passes');"
   ]
  },
  {
   "cell_type": "markdown",
   "metadata": {},
   "source": [
    "From the above box plots we observe that:\n",
    "\n",
    "High passes are taken closest to the goal and ground passes are taken away from the goal. This makes sense, as high passes are usually for headers and we have seen that the headers are taken mostly within the penalty box. Ground passes are fed at the feet of the players. And we have previously seen that the footed shots can be taken away from the goal which was proven before in the plots. Thus the above plot confirms our inferences."
   ]
  },
  {
   "cell_type": "markdown",
   "metadata": {},
   "source": [
    "**Cutbacks**\n",
    "\n",
    "Cutbacks are usually low ground passes where a player passes the ball back to another player from a forward position, i.e. the pass played is in the opposite direction of the goal. For our model, we consider all the passes other than crosses and cutbacks to be 'forward' passes."
   ]
  },
  {
   "cell_type": "code",
   "execution_count": 37,
   "metadata": {},
   "outputs": [],
   "source": [
    "cross_cutback_forward = []\n",
    "for index, rows in df.iterrows():\n",
    "    if rows['key_pass_type']=='None':\n",
    "        cross_cutback_forward.append('none')\n",
    "    else:\n",
    "        if (rows['isCross']==False) and (rows['isCutback']==False):\n",
    "            cross_cutback_forward.append('forward')\n",
    "        elif rows['isCross']==True:\n",
    "            cross_cutback_forward.append('cross')\n",
    "        elif rows['isCutback']==True:\n",
    "            cross_cutback_forward.append('cutback')"
   ]
  },
  {
   "cell_type": "code",
   "execution_count": 38,
   "metadata": {},
   "outputs": [],
   "source": [
    "df['cross_cutback_forward']=cross_cutback_forward"
   ]
  },
  {
   "cell_type": "code",
   "execution_count": 39,
   "metadata": {},
   "outputs": [
    {
     "data": {
      "text/plain": [
       "forward    863\n",
       "none       514\n",
       "cross      310\n",
       "cutback      6\n",
       "Name: cross_cutback_forward, dtype: int64"
      ]
     },
     "execution_count": 39,
     "metadata": {},
     "output_type": "execute_result"
    }
   ],
   "source": [
    "df['cross_cutback_forward'].value_counts()"
   ]
  },
  {
   "cell_type": "code",
   "execution_count": 44,
   "metadata": {},
   "outputs": [
    {
     "data": {
      "image/png": "[encoded data removed]",
      "text/plain": [
       "<Figure size 720x432 with 1 Axes>"
      ]
     },
     "metadata": {
      "needs_background": "light"
     },
     "output_type": "display_data"
    }
   ],
   "source": [
    "filt = df['cross_cutback_forward']=='none'\n",
    "fig = plt.figure(figsize=(10,6))\n",
    "sns.barplot(x='key_pass_type',y='isGoalBool',hue='cross_cutback_forward',ci=None,data=df[~filt], palette=sns.diverging_palette(255, 133, l=40, n=3, center=\"dark\"))\n",
    "plt.xlabel('Type of key pass')\n",
    "plt.ylabel('Shot resulting in Goal Probability')\n",
    "plt.title('Probability of Shot resulting in goal for key passes')\n",
    "plt.legend(loc='upper right');\n",
    "plt.tight_layout()\n",
    "plt.savefig('forward_cross_cutback.png')"
   ]
  },
  {
   "cell_type": "markdown",
   "metadata": {},
   "source": [
    "From the above plot we observe:\n",
    "- Crosses are likely to create high xG shots followed by the passes in forward direction. However, high forward passes are seen to create higher xG shots. Infact, highest xG shots is created by the high forward passes.\n",
    "\n",
    "- In general, high passes have higher xG irrespective of the direction of play.\n",
    "\n",
    "- Cutbacks are not common in this dataset. There are only 6 cutbacks, out of which not even even 1 resultant shot was a goal.\n",
    "\n",
    "Now let us see from where do the key passes originate:"
   ]
  },
  {
   "cell_type": "code",
   "execution_count": 51,
   "metadata": {
    "scrolled": false
   },
   "outputs": [
    {
     "data": {
      "image/png": "[encoded data removed]",
      "text/plain": [
       "<Figure size 720x432 with 1 Axes>"
      ]
     },
     "metadata": {
      "needs_background": "light"
     },
     "output_type": "display_data"
    }
   ],
   "source": [
    "plt.figure(figsize=(10,6))\n",
    "sns.barplot(x='key_pass_pattern',y='isGoalBool', order=['From Counter','From Keeper','From Corner', 'From Throw In', 'Regular Play', 'From Freekick', 'From Goal Kick', 'From Kick Off', 'Other'],ci=None,data=df[~filt], palette=sns.diverging_palette(255, 133, l=60, n=7, center=\"dark\"))\n",
    "plt.xticks(rotation=45)\n",
    "plt.ylabel('Shot Resulting in Goal Probability');\n",
    "plt.title('Probability of Shot resulting in goal for key passes origin point')\n",
    "plt.ylim([0,0.3]);\n",
    "plt.tight_layout()\n",
    "plt.savefig('play_patterns.png')"
   ]
  },
  {
   "cell_type": "markdown",
   "metadata": {},
   "source": [
    "From the above plot it is evident that the best key passes result from the Counter, Keeper, Corners, Throw-ins and Regular Play.\n",
    "\n",
    "Corners and throw-ins are harder to directly score from but these can prove to be best types of key passes. So can be passes from the keeper and counters which can be observed above.\n",
    "\n",
    "**First Time shots**\n",
    "\n",
    "Utilizing the first_time feature of Statsbomb, let us analyze if a shot that is end result of a carry helps its chances of being a goal.\n",
    "First_time shot is the shot that is taken first time without controlling it. First_time shot cannot be an end result of a shooter's carry."
   ]
  },
  {
   "cell_type": "code",
   "execution_count": 52,
   "metadata": {},
   "outputs": [
    {
     "data": {
      "image/png": "[encoded data removed]",
      "text/plain": [
       "<Figure size 720x432 with 1 Axes>"
      ]
     },
     "metadata": {
      "needs_background": "light"
     },
     "output_type": "display_data"
    }
   ],
   "source": [
    "plt.figure(figsize=(10,6))\n",
    "sns.barplot(x='first_time',y='isGoalBool',ci=None,data=df, palette = 'RdBu');\n",
    "plt.xlabel('First time taken shot')\n",
    "plt.ylabel('Probability of shot resulting in Goal')\n",
    "plt.title('Probability of Shot taken First time that results in goal ')\n",
    "plt.tight_layout()\n",
    "plt.savefig('first_time.png')"
   ]
  },
  {
   "cell_type": "markdown",
   "metadata": {},
   "source": [
    "We can see that the first time taken shots are more likely to be successful than shots that are controlled. We have seen before that distance of the shot is a very important feature in shot conversion. Let us confirm this for first time shots using a box-plot."
   ]
  },
  {
   "cell_type": "code",
   "execution_count": 53,
   "metadata": {},
   "outputs": [
    {
     "data": {
      "image/png": "[encoded data removed]",
      "text/plain": [
       "<Figure size 720x432 with 1 Axes>"
      ]
     },
     "metadata": {
      "needs_background": "light"
     },
     "output_type": "display_data"
    }
   ],
   "source": [
    "plt.figure(figsize=(10,6))\n",
    "sns.boxplot(x='isGoal',y='shot_distance',data=df, palette = 'RdBu');\n",
    "plt.xlabel('Result of a shot')\n",
    "plt.ylabel('Distance of the shot from the goal')\n",
    "plt.title('First time taken shots based on their distance from goal')\n",
    "plt.tight_layout()\n",
    "plt.savefig('shot_distance.png')"
   ]
  },
  {
   "cell_type": "markdown",
   "metadata": {},
   "source": [
    "This confirms our observations. Most shots that are taken within 15 yards(inside the penalty box) result in goals. Shots that are unsuccessful are likely to be the first time shots taken away from the goal.  \n",
    "\n",
    "**Shot Angle**\n",
    "\n",
    "Next we look into the shot angle:"
   ]
  },
  {
   "cell_type": "code",
   "execution_count": 54,
   "metadata": {},
   "outputs": [
    {
     "data": {
      "image/png": "[encoded data removed]",
      "text/plain": [
       "<Figure size 720x432 with 1 Axes>"
      ]
     },
     "metadata": {
      "needs_background": "light"
     },
     "output_type": "display_data"
    }
   ],
   "source": [
    "plt.figure(figsize=(10,6))\n",
    "sns.boxplot(x='isGoal',y='shot_angle',data=df, palette = 'RdBu');\n",
    "plt.xlabel('Result of a shot')\n",
    "plt.ylabel('Angle of the shot from the goal')\n",
    "plt.title('Shots based on their angles from goal')\n",
    "plt.tight_layout()\n",
    "plt.savefig('shot_angle.png')"
   ]
  },
  {
   "cell_type": "markdown",
   "metadata": {},
   "source": [
    "Lower shot angle indicates that it is at a farther distance away from the goal. Since we have already proved that shots that are taken from longer distances are less likely to end up as goals. Shots with low angles result in fewer goals and the ones with greater shot angles are more likely to be goals.\n",
    "\n",
    "Now, we look at type of shots in open play vs the shots in freekicks and penalties.\n",
    "\n",
    "**Open play Shots vs Freekick and Penalty Shots**"
   ]
  },
  {
   "cell_type": "code",
   "execution_count": 55,
   "metadata": {},
   "outputs": [
    {
     "name": "stdout",
     "output_type": "stream",
     "text": [
      "The percentage of shots from open play which are goals is 8.0\n",
      "The percentage of shots from freekicks which are goals is 7.000000000000001\n",
      "The percentage of shots from penalties which are goals is 72.0\n"
     ]
    }
   ],
   "source": [
    "open_play_pct = quant_pct(df,'type_name','Open Play')\n",
    "freekick_pct = quant_pct(df,'type_name','Free Kick')\n",
    "penalty_pct = quant_pct(df,'type_name','Penalty')\n",
    "\n",
    "print('The percentage of shots from open play which are goals is {0}'.format(round(open_play_pct,2)*100))\n",
    "print('The percentage of shots from freekicks which are goals is {0}'.format(round(freekick_pct,2)*100))\n",
    "print('The percentage of shots from penalties which are goals is {0}'.format(round(penalty_pct,2)*100))"
   ]
  },
  {
   "cell_type": "markdown",
   "metadata": {},
   "source": [
    "- Penalties correspond to a very high probability of scoring, while freekicks correspond to a low probability of scoring. Open play shots are easier to score than freekicks. \n",
    "\n",
    "**Pack Density of opposition in front of the shot**"
   ]
  },
  {
   "cell_type": "code",
   "execution_count": 56,
   "metadata": {
    "scrolled": false
   },
   "outputs": [
    {
     "data": {
      "image/png": "[encoded data removed]",
      "text/plain": [
       "<Figure size 720x432 with 1 Axes>"
      ]
     },
     "metadata": {
      "needs_background": "light"
     },
     "output_type": "display_data"
    }
   ],
   "source": [
    "plt.figure(figsize=(10,6))\n",
    "sns.boxplot(x='isGoal',y='pack_density',data=df, palette = 'RdBu');\n",
    "plt.xlabel('Result of a shot')\n",
    "plt.ylabel('Pack density')\n",
    "plt.title('Shots based on Pack density of opposition infront')\n",
    "plt.tight_layout()\n",
    "plt.savefig('pack_density.png')"
   ]
  },
  {
   "cell_type": "markdown",
   "metadata": {},
   "source": [
    "Shots taken when fewer players are directly in between shot and shot and goal. Unsuccessful shots generally have more players in between the shot and goal than successful shots.\n",
    "\n",
    "Packing density, generally looks whether a goalkeeper is in the way of a shot. It is difficult to factor for how good the physical attributes of keeper like jumping, diving, height etc.  For this project, we adopt a simplistic approach where the packing density is the only metric which considers positioning of the other players wrt shot.\n",
    "\n",
    "\n",
    "**Type of non play factors**\n",
    "- **Minute of the shot**"
   ]
  },
  {
   "cell_type": "code",
   "execution_count": 58,
   "metadata": {},
   "outputs": [
    {
     "data": {
      "image/png": "[encoded data removed]",
      "text/plain": [
       "<Figure size 432x288 with 1 Axes>"
      ]
     },
     "metadata": {
      "needs_background": "light"
     },
     "output_type": "display_data"
    }
   ],
   "source": [
    "df['minute_of_shot_in_half']=df['timestamp'].dt.minute\n",
    "sns.boxplot(x='isGoal',y='minute_of_shot_in_half',data=df, palette = 'RdBu')\n",
    "plt.xlabel('Result of a shot')\n",
    "plt.ylabel('Minute of a shot in the half')\n",
    "plt.title('Shots based on Actual time they are taken in');"
   ]
  },
  {
   "cell_type": "markdown",
   "metadata": {},
   "source": [
    "We can see that the actual time of shot is not a important feature to predict whether a shot is successful or not.\n",
    "\n",
    "- **Home team or Away Team**"
   ]
  },
  {
   "cell_type": "code",
   "execution_count": 59,
   "metadata": {},
   "outputs": [
    {
     "data": {
      "image/png": "[encoded data removed]",
      "text/plain": [
       "<Figure size 432x288 with 1 Axes>"
      ]
     },
     "metadata": {
      "needs_background": "light"
     },
     "output_type": "display_data"
    }
   ],
   "source": [
    "sns.barplot(x='home_or_away',y='isGoalBool',ci=None,data=df, palette = 'RdBu');\n",
    "plt.xlabel('Home team or Away Team')\n",
    "plt.ylabel('Probability of shot resulting in goal')\n",
    "plt.title('Shots based on the team that takes it');"
   ]
  },
  {
   "cell_type": "markdown",
   "metadata": {},
   "source": [
    "Again this is insignificant feature and the team that the player is playing for does not affect the shot conversion rate. This can be proved from the above plot."
   ]
  },
  {
   "cell_type": "code",
   "execution_count": null,
   "metadata": {},
   "outputs": [],
   "source": []
  }
 ],
 "metadata": {
  "kernelspec": {
   "display_name": "Python 3",
   "language": "python",
   "name": "python3"
  },
  "language_info": {
   "codemirror_mode": {
    "name": "ipython",
    "version": 3
   },
   "file_extension": ".py",
   "mimetype": "text/x-python",
   "name": "python",
   "nbconvert_exporter": "python",
   "pygments_lexer": "ipython3",
   "version": "3.7.3"
  }
 },
 "nbformat": 4,
 "nbformat_minor": 2
}
