{
 "cells": [
  {
   "cell_type": "markdown",
   "metadata": {},
   "source": [
    "Importing the required modules"
   ]
  },
  {
   "cell_type": "code",
   "execution_count": 1,
   "metadata": {},
   "outputs": [],
   "source": [
    "import matplotlib.pyplot as plt\n",
    "import numpy as np\n",
    "import pandas as pd\n",
    "import seaborn as sns\n",
    "plt.style.use('fivethirtyeight')"
   ]
  },
  {
   "cell_type": "markdown",
   "metadata": {},
   "source": [
    "Reading the pickled dataframe"
   ]
  },
  {
   "cell_type": "code",
   "execution_count": 2,
   "metadata": {},
   "outputs": [
    {
     "data": {
      "text/html": [
       "<div>\n",
       "<style scoped>\n",
       "    .dataframe tbody tr th:only-of-type {\n",
       "        vertical-align: middle;\n",
       "    }\n",
       "\n",
       "    .dataframe tbody tr th {\n",
       "        vertical-align: top;\n",
       "    }\n",
       "\n",
       "    .dataframe thead th {\n",
       "        text-align: right;\n",
       "    }\n",
       "</style>\n",
       "<table border=\"1\" class=\"dataframe\">\n",
       "  <thead>\n",
       "    <tr style=\"text-align: right;\">\n",
       "      <th></th>\n",
       "      <th>shot_x</th>\n",
       "      <th>shot_y</th>\n",
       "      <th>shot_distance</th>\n",
       "      <th>shot_a</th>\n",
       "      <th>shot_b</th>\n",
       "      <th>shot_angle</th>\n",
       "      <th>timestamp</th>\n",
       "      <th>outcome_name</th>\n",
       "      <th>outcome_id</th>\n",
       "      <th>body_part_name</th>\n",
       "      <th>...</th>\n",
       "      <th>pack_density</th>\n",
       "      <th>shot_player</th>\n",
       "      <th>home_or_away</th>\n",
       "      <th>key_pass_type</th>\n",
       "      <th>key_pass_pattern</th>\n",
       "      <th>isCross</th>\n",
       "      <th>isCutback</th>\n",
       "      <th>preceding_event_player</th>\n",
       "      <th>preceding_event_team</th>\n",
       "      <th>statsbomb_xg</th>\n",
       "    </tr>\n",
       "  </thead>\n",
       "  <tbody>\n",
       "    <tr>\n",
       "      <th>0</th>\n",
       "      <td>97.0</td>\n",
       "      <td>53.0</td>\n",
       "      <td>26.4</td>\n",
       "      <td>28.600699</td>\n",
       "      <td>24.698178</td>\n",
       "      <td>15.1</td>\n",
       "      <td>2020-04-18 00:04:17.267</td>\n",
       "      <td>Off T</td>\n",
       "      <td>98</td>\n",
       "      <td>Right Foot</td>\n",
       "      <td>...</td>\n",
       "      <td>2</td>\n",
       "      <td>Mile Jedinak</td>\n",
       "      <td>home</td>\n",
       "      <td>None</td>\n",
       "      <td>None</td>\n",
       "      <td>False</td>\n",
       "      <td>False</td>\n",
       "      <td>Mile Jedinak</td>\n",
       "      <td>Australia</td>\n",
       "      <td>0.032260</td>\n",
       "    </tr>\n",
       "    <tr>\n",
       "      <th>1</th>\n",
       "      <td>95.0</td>\n",
       "      <td>46.0</td>\n",
       "      <td>25.7</td>\n",
       "      <td>26.925824</td>\n",
       "      <td>25.079872</td>\n",
       "      <td>17.2</td>\n",
       "      <td>2020-04-18 00:11:27.587</td>\n",
       "      <td>Blocked</td>\n",
       "      <td>96</td>\n",
       "      <td>Left Foot</td>\n",
       "      <td>...</td>\n",
       "      <td>3</td>\n",
       "      <td>Tom RogiÄ‡</td>\n",
       "      <td>home</td>\n",
       "      <td>Ground Pass</td>\n",
       "      <td>From Throw In</td>\n",
       "      <td>False</td>\n",
       "      <td>False</td>\n",
       "      <td>Tom RogiÄ‡</td>\n",
       "      <td>Australia</td>\n",
       "      <td>0.049563</td>\n",
       "    </tr>\n",
       "    <tr>\n",
       "      <th>2</th>\n",
       "      <td>104.0</td>\n",
       "      <td>53.0</td>\n",
       "      <td>20.6</td>\n",
       "      <td>23.345235</td>\n",
       "      <td>18.357560</td>\n",
       "      <td>17.4</td>\n",
       "      <td>2020-04-18 00:17:14.547</td>\n",
       "      <td>Goal</td>\n",
       "      <td>97</td>\n",
       "      <td>Right Foot</td>\n",
       "      <td>...</td>\n",
       "      <td>2</td>\n",
       "      <td>AndrÃ© MartÃ­n Carrillo DÃ­az</td>\n",
       "      <td>away</td>\n",
       "      <td>High Pass</td>\n",
       "      <td>Regular Play</td>\n",
       "      <td>False</td>\n",
       "      <td>False</td>\n",
       "      <td>AndrÃ© MartÃ­n Carrillo DÃ­az</td>\n",
       "      <td>Peru</td>\n",
       "      <td>0.035208</td>\n",
       "    </tr>\n",
       "    <tr>\n",
       "      <th>3</th>\n",
       "      <td>112.0</td>\n",
       "      <td>42.0</td>\n",
       "      <td>8.2</td>\n",
       "      <td>10.000000</td>\n",
       "      <td>8.246211</td>\n",
       "      <td>50.9</td>\n",
       "      <td>2020-04-18 00:20:00.707</td>\n",
       "      <td>Wayward</td>\n",
       "      <td>101</td>\n",
       "      <td>Head</td>\n",
       "      <td>...</td>\n",
       "      <td>2</td>\n",
       "      <td>Mathew Leckie</td>\n",
       "      <td>home</td>\n",
       "      <td>High Pass</td>\n",
       "      <td>From Throw In</td>\n",
       "      <td>True</td>\n",
       "      <td>False</td>\n",
       "      <td>Mathew Leckie</td>\n",
       "      <td>Australia</td>\n",
       "      <td>0.129688</td>\n",
       "    </tr>\n",
       "    <tr>\n",
       "      <th>4</th>\n",
       "      <td>109.0</td>\n",
       "      <td>37.0</td>\n",
       "      <td>11.4</td>\n",
       "      <td>11.045361</td>\n",
       "      <td>13.038405</td>\n",
       "      <td>37.7</td>\n",
       "      <td>2020-04-18 00:24:07.787</td>\n",
       "      <td>Saved</td>\n",
       "      <td>100</td>\n",
       "      <td>Head</td>\n",
       "      <td>...</td>\n",
       "      <td>1</td>\n",
       "      <td>JosÃ© Paolo Guerrero GonzÃ¡lez</td>\n",
       "      <td>away</td>\n",
       "      <td>High Pass</td>\n",
       "      <td>From Free Kick</td>\n",
       "      <td>False</td>\n",
       "      <td>False</td>\n",
       "      <td>JosÃ© Paolo Guerrero GonzÃ¡lez</td>\n",
       "      <td>Peru</td>\n",
       "      <td>0.036955</td>\n",
       "    </tr>\n",
       "  </tbody>\n",
       "</table>\n",
       "<p>5 rows × 27 columns</p>\n",
       "</div>"
      ],
      "text/plain": [
       "   shot_x  shot_y  shot_distance     shot_a     shot_b  shot_angle  \\\n",
       "0    97.0    53.0           26.4  28.600699  24.698178        15.1   \n",
       "1    95.0    46.0           25.7  26.925824  25.079872        17.2   \n",
       "2   104.0    53.0           20.6  23.345235  18.357560        17.4   \n",
       "3   112.0    42.0            8.2  10.000000   8.246211        50.9   \n",
       "4   109.0    37.0           11.4  11.045361  13.038405        37.7   \n",
       "\n",
       "                timestamp outcome_name  outcome_id body_part_name  ...  \\\n",
       "0 2020-04-18 00:04:17.267        Off T          98     Right Foot  ...   \n",
       "1 2020-04-18 00:11:27.587      Blocked          96      Left Foot  ...   \n",
       "2 2020-04-18 00:17:14.547         Goal          97     Right Foot  ...   \n",
       "3 2020-04-18 00:20:00.707      Wayward         101           Head  ...   \n",
       "4 2020-04-18 00:24:07.787        Saved         100           Head  ...   \n",
       "\n",
       "   pack_density                     shot_player  home_or_away key_pass_type  \\\n",
       "0             2                    Mile Jedinak          home          None   \n",
       "1             3                      Tom RogiÄ‡          home   Ground Pass   \n",
       "2             2   AndrÃ© MartÃ­n Carrillo DÃ­az          away     High Pass   \n",
       "3             2                   Mathew Leckie          home     High Pass   \n",
       "4             1  JosÃ© Paolo Guerrero GonzÃ¡lez          away     High Pass   \n",
       "\n",
       "   key_pass_pattern  isCross isCutback          preceding_event_player  \\\n",
       "0              None    False     False                    Mile Jedinak   \n",
       "1     From Throw In    False     False                      Tom RogiÄ‡   \n",
       "2      Regular Play    False     False   AndrÃ© MartÃ­n Carrillo DÃ­az   \n",
       "3     From Throw In     True     False                   Mathew Leckie   \n",
       "4    From Free Kick    False     False  JosÃ© Paolo Guerrero GonzÃ¡lez   \n",
       "\n",
       "  preceding_event_team statsbomb_xg  \n",
       "0            Australia     0.032260  \n",
       "1            Australia     0.049563  \n",
       "2                 Peru     0.035208  \n",
       "3            Australia     0.129688  \n",
       "4                 Peru     0.036955  \n",
       "\n",
       "[5 rows x 27 columns]"
      ]
     },
     "execution_count": 2,
     "metadata": {},
     "output_type": "execute_result"
    }
   ],
   "source": [
    "df = pd.read_pickle('./WC2018_preprocessed.pkl')\n",
    "df.head()"
   ]
  },
  {
   "cell_type": "markdown",
   "metadata": {},
   "source": [
    "**Modifying the dataframe based on the exploration**\n",
    "\n",
    "Two columns are added 'isGoal' and 'isGoalBool' to keep track of shots that result in goals for plotting and other calculations."
   ]
  },
  {
   "cell_type": "code",
   "execution_count": 3,
   "metadata": {},
   "outputs": [],
   "source": [
    "isGoal=[]\n",
    "isGoalBool = []\n",
    "for outcome in df['outcome_name'].values:\n",
    "    if outcome=='Goal':\n",
    "        isGoal.append('Goal')\n",
    "        isGoalBool.append(1)\n",
    "    else:\n",
    "        isGoal.append('Not Goal')\n",
    "        isGoalBool.append(0)"
   ]
  },
  {
   "cell_type": "code",
   "execution_count": 4,
   "metadata": {},
   "outputs": [],
   "source": [
    "df['isGoal']=isGoal\n",
    "df['isGoalBool']=isGoalBool"
   ]
  },
  {
   "cell_type": "markdown",
   "metadata": {},
   "source": [
    "We then merge the features - key_pass_type,isCross and isCutback into 1 feature : cross_cutback_forward. This makes it easier to encode as a categorical feature later."
   ]
  },
  {
   "cell_type": "code",
   "execution_count": 5,
   "metadata": {},
   "outputs": [],
   "source": [
    "cross_cutback_forward = []\n",
    "for index, rows in df.iterrows():\n",
    "    if rows['key_pass_type']=='None':\n",
    "        cross_cutback_forward.append('none')\n",
    "    else:\n",
    "        if (rows['isCross']==False) and (rows['isCutback']==False):\n",
    "            cross_cutback_forward.append('forward')\n",
    "        elif rows['isCross']==True:\n",
    "            cross_cutback_forward.append('cross')\n",
    "        elif rows['isCutback']==True:\n",
    "            cross_cutback_forward.append('cutback')"
   ]
  },
  {
   "cell_type": "code",
   "execution_count": 6,
   "metadata": {},
   "outputs": [
    {
     "data": {
      "text/plain": [
       "forward    863\n",
       "none       514\n",
       "cross      310\n",
       "cutback      6\n",
       "Name: cross_cutback_forward, dtype: int64"
      ]
     },
     "execution_count": 6,
     "metadata": {},
     "output_type": "execute_result"
    }
   ],
   "source": [
    "df['cross_cutback_forward']=cross_cutback_forward\n",
    "df['cross_cutback_forward'].value_counts()"
   ]
  },
  {
   "cell_type": "markdown",
   "metadata": {},
   "source": [
    "Since the cutbacks are very less and do not result in goal, we will be dropping the rows with key pass type 'cutback'."
   ]
  },
  {
   "cell_type": "code",
   "execution_count": 7,
   "metadata": {},
   "outputs": [
    {
     "data": {
      "text/plain": [
       "forward    863\n",
       "none       514\n",
       "cross      310\n",
       "Name: cross_cutback_forward, dtype: int64"
      ]
     },
     "execution_count": 7,
     "metadata": {},
     "output_type": "execute_result"
    }
   ],
   "source": [
    "df=df[df['cross_cutback_forward']!='cutback']\n",
    "df['cross_cutback_forward'].value_counts()"
   ]
  },
  {
   "cell_type": "markdown",
   "metadata": {},
   "source": [
    "Modifying the key_pass_pattern feature similarly"
   ]
  },
  {
   "cell_type": "code",
   "execution_count": 8,
   "metadata": {},
   "outputs": [
    {
     "data": {
      "text/plain": [
       "Regular Play      517\n",
       "None              514\n",
       "From Throw In     201\n",
       "From Corner       198\n",
       "From Free Kick    160\n",
       "From Counter       44\n",
       "From Goal Kick     30\n",
       "From Keeper        14\n",
       "From Kick Off       7\n",
       "Other               2\n",
       "Name: key_pass_pattern, dtype: int64"
      ]
     },
     "execution_count": 8,
     "metadata": {},
     "output_type": "execute_result"
    }
   ],
   "source": [
    "df['key_pass_pattern'].value_counts()"
   ]
  },
  {
   "cell_type": "markdown",
   "metadata": {},
   "source": [
    "Because of their sample sizes, we group the samples into 'Regular Play', 'Non Regular Play' and 'None'"
   ]
  },
  {
   "cell_type": "code",
   "execution_count": 9,
   "metadata": {},
   "outputs": [],
   "source": [
    "key_pass_pattern_list =[]\n",
    "for index, rows in df.iterrows():\n",
    "    if rows['key_pass_pattern']=='None':\n",
    "        key_pass_pattern_list.append('none')\n",
    "    else:\n",
    "        if (rows['key_pass_pattern']=='Regular Play'):\n",
    "            key_pass_pattern_list.append('Regular Play')\n",
    "        else:\n",
    "            key_pass_pattern_list.append('Non Regular Play')"
   ]
  },
  {
   "cell_type": "code",
   "execution_count": 10,
   "metadata": {},
   "outputs": [
    {
     "data": {
      "text/plain": [
       "Non Regular Play    656\n",
       "Regular Play        517\n",
       "none                514\n",
       "Name: key_pass_pattern, dtype: int64"
      ]
     },
     "execution_count": 10,
     "metadata": {},
     "output_type": "execute_result"
    }
   ],
   "source": [
    "df['key_pass_pattern']=key_pass_pattern_list\n",
    "df['key_pass_pattern'].value_counts()"
   ]
  },
  {
   "cell_type": "markdown",
   "metadata": {},
   "source": [
    "Now let us look at the 'type_name' variable"
   ]
  },
  {
   "cell_type": "code",
   "execution_count": 11,
   "metadata": {},
   "outputs": [
    {
     "data": {
      "text/plain": [
       "Open Play    1543\n",
       "Free Kick      80\n",
       "Penalty        64\n",
       "Name: type_name, dtype: int64"
      ]
     },
     "execution_count": 11,
     "metadata": {},
     "output_type": "execute_result"
    }
   ],
   "source": [
    "df['type_name'].value_counts()"
   ]
  },
  {
   "cell_type": "markdown",
   "metadata": {},
   "source": [
    "Looking at the sample size of this variable, it makes sense to ignore the Freekick and Penalty shoots and restrict the model to look at shots which are not direct shots."
   ]
  },
  {
   "cell_type": "code",
   "execution_count": 12,
   "metadata": {},
   "outputs": [
    {
     "data": {
      "text/plain": [
       "Open Play    1543\n",
       "Name: type_name, dtype: int64"
      ]
     },
     "execution_count": 12,
     "metadata": {},
     "output_type": "execute_result"
    }
   ],
   "source": [
    "df = df[df.type_name=='Open Play']\n",
    "df.type_name.value_counts()"
   ]
  },
  {
   "cell_type": "markdown",
   "metadata": {},
   "source": [
    "Our exploration also showed that the time of shot and shot being taken by home or away team did not matter. So it makes sense to drop these columns."
   ]
  },
  {
   "cell_type": "code",
   "execution_count": 13,
   "metadata": {},
   "outputs": [
    {
     "data": {
      "text/plain": [
       "Index(['shot_x', 'shot_y', 'shot_distance', 'shot_a', 'shot_b', 'shot_angle',\n",
       "       'outcome_name', 'outcome_id', 'body_part_name', 'body_part_id',\n",
       "       'technique_name', 'technique_id', 'type_name', 'type_id', 'first_time',\n",
       "       'preceding_event', 'pack_density', 'shot_player', 'key_pass_type',\n",
       "       'key_pass_pattern', 'isCross', 'isCutback', 'preceding_event_player',\n",
       "       'preceding_event_team', 'statsbomb_xg', 'isGoal', 'isGoalBool',\n",
       "       'cross_cutback_forward'],\n",
       "      dtype='object')"
      ]
     },
     "execution_count": 13,
     "metadata": {},
     "output_type": "execute_result"
    }
   ],
   "source": [
    "df=df.drop(['timestamp','home_or_away'],axis=1)\n",
    "df.columns"
   ]
  },
  {
   "cell_type": "markdown",
   "metadata": {},
   "source": [
    "**Removing other redundant features**\n"
   ]
  },
  {
   "cell_type": "code",
   "execution_count": 14,
   "metadata": {},
   "outputs": [
    {
     "data": {
      "text/plain": [
       "Index(['shot_distance', 'shot_angle', 'body_part_name', 'first_time',\n",
       "       'pack_density', 'key_pass_type', 'key_pass_pattern', 'statsbomb_xg',\n",
       "       'isGoalBool', 'cross_cutback_forward'],\n",
       "      dtype='object')"
      ]
     },
     "execution_count": 14,
     "metadata": {},
     "output_type": "execute_result"
    }
   ],
   "source": [
    "df=df.drop(['shot_x','shot_y','shot_a','shot_b','outcome_name','body_part_id','outcome_id','technique_name','technique_id','type_name','type_id','preceding_event','shot_player','preceding_event_player','preceding_event_team','isCutback','isCross','isGoal'],axis=1)\n",
    "df.columns"
   ]
  },
  {
   "cell_type": "markdown",
   "metadata": {},
   "source": [
    "Modify the 'first_time' feature"
   ]
  },
  {
   "cell_type": "code",
   "execution_count": 15,
   "metadata": {},
   "outputs": [
    {
     "data": {
      "text/plain": [
       "carry         1189\n",
       "first_time     354\n",
       "Name: first_time_or_carry, dtype: int64"
      ]
     },
     "execution_count": 15,
     "metadata": {},
     "output_type": "execute_result"
    }
   ],
   "source": [
    "first_time_list =[]\n",
    "for index, rows in df.iterrows():\n",
    "    if rows['first_time']==True:\n",
    "        first_time_list.append('first_time')\n",
    "    else:\n",
    "        first_time_list.append('carry')\n",
    "df['first_time_or_carry']=first_time_list\n",
    "df['first_time_or_carry'].value_counts()"
   ]
  },
  {
   "cell_type": "code",
   "execution_count": 16,
   "metadata": {},
   "outputs": [
    {
     "data": {
      "text/plain": [
       "Index(['shot_distance', 'shot_angle', 'body_part_name', 'pack_density',\n",
       "       'key_pass_type', 'key_pass_pattern', 'statsbomb_xg', 'isGoalBool',\n",
       "       'cross_cutback_forward', 'first_time_or_carry'],\n",
       "      dtype='object')"
      ]
     },
     "execution_count": 16,
     "metadata": {},
     "output_type": "execute_result"
    }
   ],
   "source": [
    "df=df.drop(['first_time'],axis=1)\n",
    "df.columns"
   ]
  },
  {
   "cell_type": "markdown",
   "metadata": {},
   "source": [
    "Finally, let's modify the 'body_part_name' feature"
   ]
  },
  {
   "cell_type": "code",
   "execution_count": 17,
   "metadata": {},
   "outputs": [],
   "source": [
    "body_part_list=[]\n",
    "for index, rows in df.iterrows():\n",
    "    if (rows['body_part_name']=='Right Foot') or (rows['body_part_name']=='Left Foot'):\n",
    "        body_part_list.append('Foot')\n",
    "    elif (rows['body_part_name']=='Head'):\n",
    "        body_part_list.append('Head')\n",
    "    else:\n",
    "        body_part_list.append('Other')"
   ]
  },
  {
   "cell_type": "code",
   "execution_count": 18,
   "metadata": {},
   "outputs": [
    {
     "data": {
      "text/plain": [
       "Foot     1219\n",
       "Head      310\n",
       "Other      14\n",
       "Name: body_part_name, dtype: int64"
      ]
     },
     "execution_count": 18,
     "metadata": {},
     "output_type": "execute_result"
    }
   ],
   "source": [
    "df['body_part_name']=body_part_list\n",
    "df.body_part_name.value_counts()"
   ]
  },
  {
   "cell_type": "markdown",
   "metadata": {},
   "source": [
    "Since the shots taken by body parts other than foot and head are very less. Let's drop these few shots."
   ]
  },
  {
   "cell_type": "code",
   "execution_count": 19,
   "metadata": {},
   "outputs": [
    {
     "data": {
      "text/plain": [
       "Foot    1219\n",
       "Head     310\n",
       "Name: body_part_name, dtype: int64"
      ]
     },
     "execution_count": 19,
     "metadata": {},
     "output_type": "execute_result"
    }
   ],
   "source": [
    "df=df[df.body_part_name != 'Other']\n",
    "df.body_part_name.value_counts()"
   ]
  },
  {
   "cell_type": "code",
   "execution_count": 20,
   "metadata": {},
   "outputs": [
    {
     "data": {
      "text/html": [
       "<div>\n",
       "<style scoped>\n",
       "    .dataframe tbody tr th:only-of-type {\n",
       "        vertical-align: middle;\n",
       "    }\n",
       "\n",
       "    .dataframe tbody tr th {\n",
       "        vertical-align: top;\n",
       "    }\n",
       "\n",
       "    .dataframe thead th {\n",
       "        text-align: right;\n",
       "    }\n",
       "</style>\n",
       "<table border=\"1\" class=\"dataframe\">\n",
       "  <thead>\n",
       "    <tr style=\"text-align: right;\">\n",
       "      <th></th>\n",
       "      <th>shot_distance</th>\n",
       "      <th>shot_angle</th>\n",
       "      <th>body_part_name</th>\n",
       "      <th>pack_density</th>\n",
       "      <th>key_pass_type</th>\n",
       "      <th>key_pass_pattern</th>\n",
       "      <th>statsbomb_xg</th>\n",
       "      <th>isGoalBool</th>\n",
       "      <th>cross_cutback_forward</th>\n",
       "      <th>first_time_or_carry</th>\n",
       "    </tr>\n",
       "  </thead>\n",
       "  <tbody>\n",
       "    <tr>\n",
       "      <th>0</th>\n",
       "      <td>26.4</td>\n",
       "      <td>15.1</td>\n",
       "      <td>Foot</td>\n",
       "      <td>2</td>\n",
       "      <td>None</td>\n",
       "      <td>none</td>\n",
       "      <td>0.032260</td>\n",
       "      <td>0</td>\n",
       "      <td>none</td>\n",
       "      <td>first_time</td>\n",
       "    </tr>\n",
       "    <tr>\n",
       "      <th>1</th>\n",
       "      <td>25.7</td>\n",
       "      <td>17.2</td>\n",
       "      <td>Foot</td>\n",
       "      <td>3</td>\n",
       "      <td>Ground Pass</td>\n",
       "      <td>Non Regular Play</td>\n",
       "      <td>0.049563</td>\n",
       "      <td>0</td>\n",
       "      <td>forward</td>\n",
       "      <td>carry</td>\n",
       "    </tr>\n",
       "    <tr>\n",
       "      <th>2</th>\n",
       "      <td>20.6</td>\n",
       "      <td>17.4</td>\n",
       "      <td>Foot</td>\n",
       "      <td>2</td>\n",
       "      <td>High Pass</td>\n",
       "      <td>Regular Play</td>\n",
       "      <td>0.035208</td>\n",
       "      <td>1</td>\n",
       "      <td>forward</td>\n",
       "      <td>first_time</td>\n",
       "    </tr>\n",
       "    <tr>\n",
       "      <th>3</th>\n",
       "      <td>8.2</td>\n",
       "      <td>50.9</td>\n",
       "      <td>Head</td>\n",
       "      <td>2</td>\n",
       "      <td>High Pass</td>\n",
       "      <td>Non Regular Play</td>\n",
       "      <td>0.129688</td>\n",
       "      <td>0</td>\n",
       "      <td>cross</td>\n",
       "      <td>carry</td>\n",
       "    </tr>\n",
       "    <tr>\n",
       "      <th>4</th>\n",
       "      <td>11.4</td>\n",
       "      <td>37.7</td>\n",
       "      <td>Head</td>\n",
       "      <td>1</td>\n",
       "      <td>High Pass</td>\n",
       "      <td>Non Regular Play</td>\n",
       "      <td>0.036955</td>\n",
       "      <td>0</td>\n",
       "      <td>forward</td>\n",
       "      <td>carry</td>\n",
       "    </tr>\n",
       "  </tbody>\n",
       "</table>\n",
       "</div>"
      ],
      "text/plain": [
       "   shot_distance  shot_angle body_part_name  pack_density key_pass_type  \\\n",
       "0           26.4        15.1           Foot             2          None   \n",
       "1           25.7        17.2           Foot             3   Ground Pass   \n",
       "2           20.6        17.4           Foot             2     High Pass   \n",
       "3            8.2        50.9           Head             2     High Pass   \n",
       "4           11.4        37.7           Head             1     High Pass   \n",
       "\n",
       "   key_pass_pattern  statsbomb_xg  isGoalBool cross_cutback_forward  \\\n",
       "0              none      0.032260           0                  none   \n",
       "1  Non Regular Play      0.049563           0               forward   \n",
       "2      Regular Play      0.035208           1               forward   \n",
       "3  Non Regular Play      0.129688           0                 cross   \n",
       "4  Non Regular Play      0.036955           0               forward   \n",
       "\n",
       "  first_time_or_carry  \n",
       "0          first_time  \n",
       "1               carry  \n",
       "2          first_time  \n",
       "3               carry  \n",
       "4               carry  "
      ]
     },
     "execution_count": 20,
     "metadata": {},
     "output_type": "execute_result"
    }
   ],
   "source": [
    "df.head()"
   ]
  },
  {
   "cell_type": "markdown",
   "metadata": {},
   "source": [
    "Checking for any missing values before moving on to any scaling or encoding."
   ]
  },
  {
   "cell_type": "code",
   "execution_count": 21,
   "metadata": {},
   "outputs": [
    {
     "data": {
      "text/plain": [
       "shot_distance            False\n",
       "shot_angle               False\n",
       "body_part_name           False\n",
       "pack_density             False\n",
       "key_pass_type            False\n",
       "key_pass_pattern         False\n",
       "statsbomb_xg             False\n",
       "isGoalBool               False\n",
       "cross_cutback_forward    False\n",
       "first_time_or_carry      False\n",
       "dtype: bool"
      ]
     },
     "execution_count": 21,
     "metadata": {},
     "output_type": "execute_result"
    }
   ],
   "source": [
    "df.isna().any()"
   ]
  },
  {
   "cell_type": "markdown",
   "metadata": {},
   "source": [
    "**Creating a pipeline for encoding and scaling**"
   ]
  },
  {
   "cell_type": "code",
   "execution_count": 22,
   "metadata": {},
   "outputs": [],
   "source": [
    "from sklearn.preprocessing import StandardScaler, OneHotEncoder"
   ]
  },
  {
   "cell_type": "code",
   "execution_count": 23,
   "metadata": {},
   "outputs": [],
   "source": [
    "#re-arranging column order\n",
    "df =df[['shot_distance', 'shot_angle', 'body_part_name', 'pack_density',\n",
    "       'key_pass_type', 'key_pass_pattern','cross_cutback_forward', 'first_time_or_carry','isGoalBool','statsbomb_xg']]"
   ]
  },
  {
   "cell_type": "code",
   "execution_count": 24,
   "metadata": {},
   "outputs": [],
   "source": [
    "X = df.loc[:,df.columns!='isGoalBool']\n",
    "y=df['isGoalBool']"
   ]
  },
  {
   "cell_type": "code",
   "execution_count": 25,
   "metadata": {},
   "outputs": [
    {
     "data": {
      "text/html": [
       "<div>\n",
       "<style scoped>\n",
       "    .dataframe tbody tr th:only-of-type {\n",
       "        vertical-align: middle;\n",
       "    }\n",
       "\n",
       "    .dataframe tbody tr th {\n",
       "        vertical-align: top;\n",
       "    }\n",
       "\n",
       "    .dataframe thead th {\n",
       "        text-align: right;\n",
       "    }\n",
       "</style>\n",
       "<table border=\"1\" class=\"dataframe\">\n",
       "  <thead>\n",
       "    <tr style=\"text-align: right;\">\n",
       "      <th></th>\n",
       "      <th>shot_distance</th>\n",
       "      <th>shot_angle</th>\n",
       "      <th>body_part_name</th>\n",
       "      <th>pack_density</th>\n",
       "      <th>key_pass_type</th>\n",
       "      <th>key_pass_pattern</th>\n",
       "      <th>cross_cutback_forward</th>\n",
       "      <th>first_time_or_carry</th>\n",
       "      <th>statsbomb_xg</th>\n",
       "    </tr>\n",
       "  </thead>\n",
       "  <tbody>\n",
       "    <tr>\n",
       "      <th>0</th>\n",
       "      <td>26.4</td>\n",
       "      <td>15.1</td>\n",
       "      <td>Foot</td>\n",
       "      <td>2</td>\n",
       "      <td>None</td>\n",
       "      <td>none</td>\n",
       "      <td>none</td>\n",
       "      <td>first_time</td>\n",
       "      <td>0.032260</td>\n",
       "    </tr>\n",
       "    <tr>\n",
       "      <th>1</th>\n",
       "      <td>25.7</td>\n",
       "      <td>17.2</td>\n",
       "      <td>Foot</td>\n",
       "      <td>3</td>\n",
       "      <td>Ground Pass</td>\n",
       "      <td>Non Regular Play</td>\n",
       "      <td>forward</td>\n",
       "      <td>carry</td>\n",
       "      <td>0.049563</td>\n",
       "    </tr>\n",
       "    <tr>\n",
       "      <th>2</th>\n",
       "      <td>20.6</td>\n",
       "      <td>17.4</td>\n",
       "      <td>Foot</td>\n",
       "      <td>2</td>\n",
       "      <td>High Pass</td>\n",
       "      <td>Regular Play</td>\n",
       "      <td>forward</td>\n",
       "      <td>first_time</td>\n",
       "      <td>0.035208</td>\n",
       "    </tr>\n",
       "    <tr>\n",
       "      <th>3</th>\n",
       "      <td>8.2</td>\n",
       "      <td>50.9</td>\n",
       "      <td>Head</td>\n",
       "      <td>2</td>\n",
       "      <td>High Pass</td>\n",
       "      <td>Non Regular Play</td>\n",
       "      <td>cross</td>\n",
       "      <td>carry</td>\n",
       "      <td>0.129688</td>\n",
       "    </tr>\n",
       "    <tr>\n",
       "      <th>4</th>\n",
       "      <td>11.4</td>\n",
       "      <td>37.7</td>\n",
       "      <td>Head</td>\n",
       "      <td>1</td>\n",
       "      <td>High Pass</td>\n",
       "      <td>Non Regular Play</td>\n",
       "      <td>forward</td>\n",
       "      <td>carry</td>\n",
       "      <td>0.036955</td>\n",
       "    </tr>\n",
       "  </tbody>\n",
       "</table>\n",
       "</div>"
      ],
      "text/plain": [
       "   shot_distance  shot_angle body_part_name  pack_density key_pass_type  \\\n",
       "0           26.4        15.1           Foot             2          None   \n",
       "1           25.7        17.2           Foot             3   Ground Pass   \n",
       "2           20.6        17.4           Foot             2     High Pass   \n",
       "3            8.2        50.9           Head             2     High Pass   \n",
       "4           11.4        37.7           Head             1     High Pass   \n",
       "\n",
       "   key_pass_pattern cross_cutback_forward first_time_or_carry  statsbomb_xg  \n",
       "0              none                  none          first_time      0.032260  \n",
       "1  Non Regular Play               forward               carry      0.049563  \n",
       "2      Regular Play               forward          first_time      0.035208  \n",
       "3  Non Regular Play                 cross               carry      0.129688  \n",
       "4  Non Regular Play               forward               carry      0.036955  "
      ]
     },
     "execution_count": 25,
     "metadata": {},
     "output_type": "execute_result"
    }
   ],
   "source": [
    "X.head()"
   ]
  },
  {
   "cell_type": "code",
   "execution_count": 26,
   "metadata": {},
   "outputs": [
    {
     "data": {
      "text/plain": [
       "0    0\n",
       "1    0\n",
       "2    1\n",
       "3    0\n",
       "4    0\n",
       "Name: isGoalBool, dtype: int64"
      ]
     },
     "execution_count": 26,
     "metadata": {},
     "output_type": "execute_result"
    }
   ],
   "source": [
    "y[:5]"
   ]
  },
  {
   "cell_type": "markdown",
   "metadata": {},
   "source": [
    "Since there are numerical and categorical columns. We use the ColumnTransformer to encode categorical columns and scale numerical columns."
   ]
  },
  {
   "cell_type": "code",
   "execution_count": 27,
   "metadata": {},
   "outputs": [],
   "source": [
    "from sklearn.compose import ColumnTransformer"
   ]
  },
  {
   "cell_type": "code",
   "execution_count": 28,
   "metadata": {},
   "outputs": [],
   "source": [
    "#intializing scaler and encoder\n",
    "ohe=OneHotEncoder(sparse=False)\n",
    "ss = StandardScaler()\n",
    "\n",
    "#selecting categorical and numerical columns\n",
    "cat_columns = ['body_part_name','key_pass_type','key_pass_pattern','cross_cutback_forward','first_time_or_carry']\n",
    "num_columns = ['shot_distance','shot_angle','pack_density']\n",
    "\n",
    "transformers = [('cat',ohe,cat_columns),('num',ss,num_columns)]"
   ]
  },
  {
   "cell_type": "code",
   "execution_count": 29,
   "metadata": {},
   "outputs": [],
   "source": [
    "#using the passthrough option because we don't want to transform the statsbomb_xg column \n",
    "ct = ColumnTransformer(transformers,remainder='passthrough') \n",
    "X_t = ct.fit_transform(X)"
   ]
  },
  {
   "cell_type": "markdown",
   "metadata": {},
   "source": [
    "**Splitting our data into training and test sets**"
   ]
  },
  {
   "cell_type": "code",
   "execution_count": 30,
   "metadata": {},
   "outputs": [],
   "source": [
    "from sklearn.model_selection import train_test_split"
   ]
  },
  {
   "cell_type": "code",
   "execution_count": 31,
   "metadata": {},
   "outputs": [],
   "source": [
    "X_train, X_test, y_train, y_test = train_test_split(X_t,y, test_size=0.3, stratify=y)"
   ]
  },
  {
   "cell_type": "markdown",
   "metadata": {},
   "source": [
    "Since 'statsbomb_xg' is not a predictor feature, we can extract it and keep it aside for comparisons later. But we will delete it from our train and test feature matrices"
   ]
  },
  {
   "cell_type": "code",
   "execution_count": 32,
   "metadata": {},
   "outputs": [],
   "source": [
    "train_statsbomb = X_train[:,-1]\n",
    "test_statsbomb = X_test[:,-1]\n",
    "X_train = np.delete(X_train,-1,axis=1)\n",
    "X_test = np.delete(X_test,-1,axis=1)"
   ]
  },
  {
   "cell_type": "markdown",
   "metadata": {},
   "source": [
    "**Try out different models**"
   ]
  },
  {
   "cell_type": "markdown",
   "metadata": {},
   "source": [
    "- **Logistic Regression**"
   ]
  },
  {
   "cell_type": "code",
   "execution_count": 33,
   "metadata": {},
   "outputs": [],
   "source": [
    "from sklearn.linear_model import LogisticRegression"
   ]
  },
  {
   "cell_type": "code",
   "execution_count": 34,
   "metadata": {},
   "outputs": [
    {
     "data": {
      "text/plain": [
       "LogisticRegression(C=1.0, class_weight=None, dual=False, fit_intercept=True,\n",
       "                   intercept_scaling=1, l1_ratio=None, max_iter=100,\n",
       "                   multi_class='auto', n_jobs=None, penalty='l2',\n",
       "                   random_state=None, solver='lbfgs', tol=0.0001, verbose=0,\n",
       "                   warm_start=False)"
      ]
     },
     "execution_count": 34,
     "metadata": {},
     "output_type": "execute_result"
    }
   ],
   "source": [
    "#initializing a default logistic regression model and fitting to our training data\n",
    "log_reg = LogisticRegression()\n",
    "log_reg.fit(X_train,y_train)"
   ]
  },
  {
   "cell_type": "code",
   "execution_count": 35,
   "metadata": {},
   "outputs": [],
   "source": [
    "y_train_pred = log_reg.predict(X_train)\n",
    "y_train_proba = log_reg.predict_proba(X_train)"
   ]
  },
  {
   "cell_type": "code",
   "execution_count": 36,
   "metadata": {},
   "outputs": [],
   "source": [
    "from sklearn.metrics import roc_curve, roc_auc_score, precision_recall_curve"
   ]
  },
  {
   "cell_type": "code",
   "execution_count": 37,
   "metadata": {},
   "outputs": [],
   "source": [
    "def plot_roc_curve(y,y_model_proba,y_statsbomb_proba,model_label):\n",
    "    fpr,tpr,thresholds = roc_curve(y,y_model_proba[:,1]) # extracting probability for positive class\n",
    "    fpr_sb,tpr_sb,thresholds_sb = roc_curve(y,y_statsbomb_proba) # statsbomb_xg values\n",
    "    plt.plot(fpr,tpr,label=model_label)\n",
    "    plt.plot(fpr_sb,tpr_sb,label='statsbomb')\n",
    "    plt.plot([0,1],[0,1])\n",
    "    plt.ylim([0,1])\n",
    "    plt.xlim([0,1])\n",
    "    plt.xlabel('False Positive Rate')\n",
    "    plt.ylabel('True Positive Rate')\n",
    "    plt.legend(loc='lower right');"
   ]
  },
  {
   "cell_type": "code",
   "execution_count": 38,
   "metadata": {},
   "outputs": [
    {
     "data": {
      "image/png": "[encoded data removed]",
      "text/plain": [
       "<Figure size 432x288 with 1 Axes>"
      ]
     },
     "metadata": {
      "needs_background": "light"
     },
     "output_type": "display_data"
    }
   ],
   "source": [
    "plot_roc_curve(y_train,y_train_proba,train_statsbomb,model_label='Logistic Regression')\n",
    "plt.title('Performance on Training Data');"
   ]
  },
  {
   "cell_type": "code",
   "execution_count": 41,
   "metadata": {},
   "outputs": [
    {
     "name": "stdout",
     "output_type": "stream",
     "text": [
      "The auc score for the Logistic Regression model on the training data is 0.81\n",
      "The auc score for the Statsbomb model on the training data is 0.81\n"
     ]
    }
   ],
   "source": [
    "print('The auc score for the Logistic Regression model on the training data is {}'.format(round(roc_auc_score(y_train,y_train_proba[:,1]),2)))\n",
    "print('The auc score for the Statsbomb model on the training data is {}'.format(round(roc_auc_score(y_train,train_statsbomb),2)))"
   ]
  },
  {
   "cell_type": "markdown",
   "metadata": {},
   "source": [
    "Logistic regression compares very well to the StatsBomb model on the training data. Now let us look at its performance on the test data."
   ]
  },
  {
   "cell_type": "code",
   "execution_count": 42,
   "metadata": {},
   "outputs": [
    {
     "name": "stdout",
     "output_type": "stream",
     "text": [
      "The auc score for the Logistic Regression model on the test data is 0.75\n",
      "The auc score for the Statsbomb model on the test data is 0.77\n"
     ]
    },
    {
     "data": {
      "image/png": "[encoded data removed]",
      "text/plain": [
       "<Figure size 432x288 with 1 Axes>"
      ]
     },
     "metadata": {
      "needs_background": "light"
     },
     "output_type": "display_data"
    }
   ],
   "source": [
    "\n",
    "y_test_pred = log_reg.predict(X_test)\n",
    "y_test_proba = log_reg.predict_proba(X_test)\n",
    "\n",
    "plot_roc_curve(y_test,y_test_proba,test_statsbomb,model_label='Default Logit')\n",
    "plt.title('Performance on Test Data');\n",
    "\n",
    "print('The auc score for the Logistic Regression model on the test data is {}'.format(round(roc_auc_score(y_test,y_test_proba[:,1]),2)))\n",
    "print('The auc score for the Statsbomb model on the test data is {}'.format(round(roc_auc_score(y_test,test_statsbomb),2)))"
   ]
  },
  {
   "cell_type": "markdown",
   "metadata": {},
   "source": [
    "The performance on the test data is still pretty good. Let us do some hyper parameter tuning to try and improve the performance "
   ]
  },
  {
   "cell_type": "code",
   "execution_count": 43,
   "metadata": {},
   "outputs": [],
   "source": [
    "from sklearn.model_selection import GridSearchCV"
   ]
  },
  {
   "cell_type": "code",
   "execution_count": 44,
   "metadata": {},
   "outputs": [
    {
     "data": {
      "text/plain": [
       "{'C': 0.1}"
      ]
     },
     "execution_count": 44,
     "metadata": {},
     "output_type": "execute_result"
    }
   ],
   "source": [
    "param_grid = {'C':[0.0001,0.001,0.01,0.1,1,10,100]}\n",
    "gs_logit = GridSearchCV(LogisticRegression(),param_grid,scoring='roc_auc',cv=5)\n",
    "gs_logit.fit(X_train,y_train)\n",
    "gs_logit.best_params_"
   ]
  },
  {
   "cell_type": "markdown",
   "metadata": {},
   "source": [
    "Let's extract the best estimator and calculate the AUC score on the test data"
   ]
  },
  {
   "cell_type": "code",
   "execution_count": 45,
   "metadata": {},
   "outputs": [
    {
     "name": "stdout",
     "output_type": "stream",
     "text": [
      "The auc score for the Logistic Regression model on the test data is 0.751\n",
      "The auc score for the Statsbomb model on the test data is 0.77\n"
     ]
    }
   ],
   "source": [
    "logit_best = gs_logit.best_estimator_\n",
    "logit_best.fit(X_train,y_train)\n",
    "\n",
    "\n",
    "y_test_proba = logit_best.predict_proba(X_test)\n",
    "print('The auc score for the Logistic Regression model on the test data is {}'.format(round(roc_auc_score(y_test,y_test_proba[:,1]),3)))\n",
    "print('The auc score for the Statsbomb model on the test data is {}'.format(round(roc_auc_score(y_test,test_statsbomb),2)))"
   ]
  },
  {
   "cell_type": "markdown",
   "metadata": {},
   "source": [
    "The improvement is negligible but let's carry forward this estimator and look at what our precision recall curves and confusion matrix looks like"
   ]
  },
  {
   "cell_type": "code",
   "execution_count": 50,
   "metadata": {},
   "outputs": [],
   "source": [
    "precisions,recalls,thresholds = precision_recall_curve(y_train,y_train_proba[:,1])\n",
    "\n",
    "def plot_precision_recall_vs_threshold(precisions,recalls,thresholds):\n",
    "    ''' From Hands On Machine Learning with Scikit-Learn and TensorFlow by \n",
    "    Aurelien Geron\n",
    "    '''\n",
    "    plt.plot(thresholds,precisions[:-1],label='Precision')\n",
    "    plt.plot(thresholds,recalls[:-1],label='Recall')\n",
    "    plt.xlabel('Threshold')\n",
    "    plt.legend(loc='center right')\n",
    "    plt.ylim([0,1])"
   ]
  },
  {
   "cell_type": "code",
   "execution_count": 51,
   "metadata": {},
   "outputs": [
    {
     "data": {
      "image/png": "[encoded data removed]",
      "text/plain": [
       "<Figure size 432x288 with 1 Axes>"
      ]
     },
     "metadata": {
      "needs_background": "light"
     },
     "output_type": "display_data"
    }
   ],
   "source": [
    "plot_precision_recall_vs_threshold(precisions,recalls,thresholds)"
   ]
  },
  {
   "cell_type": "markdown",
   "metadata": {},
   "source": [
    "If we use a theshold of 0.5, we will get a low recall and high precision. We ideally, want to get a high recall as we want to classify all goals correctly. Let's use a threshold of 0.1 to compute the confusion matrix"
   ]
  },
  {
   "cell_type": "code",
   "execution_count": 48,
   "metadata": {},
   "outputs": [],
   "source": [
    "from sklearn.metrics import confusion_matrix"
   ]
  },
  {
   "cell_type": "code",
   "execution_count": 49,
   "metadata": {},
   "outputs": [
    {
     "name": "stdout",
     "output_type": "stream",
     "text": [
      "[[342  79]\n",
      " [ 16  22]]\n"
     ]
    }
   ],
   "source": [
    "predict_new = np.where(y_test_proba[:,1]>0.1,1,0)\n",
    "print(confusion_matrix(y_test,predict_new))"
   ]
  },
  {
   "cell_type": "markdown",
   "metadata": {},
   "source": [
    "Because of precision-recall tradeoff, since we reduced the threshold to get high recall, it hurt our precision. But this is overall an acceptable model. Since the recall and precision scores are a function of the threshold, for model evaluation going forward, we will stick to the auc score"
   ]
  },
  {
   "cell_type": "code",
   "execution_count": 52,
   "metadata": {},
   "outputs": [
    {
     "data": {
      "text/plain": [
       "['best_logit.joblib']"
      ]
     },
     "execution_count": 52,
     "metadata": {},
     "output_type": "execute_result"
    }
   ],
   "source": [
    "#saving best logistic regression model\n",
    "from joblib import dump\n",
    "dump(logit_best,'best_logit.joblib')"
   ]
  },
  {
   "cell_type": "markdown",
   "metadata": {},
   "source": [
    "**Gradient Boost Classifier**"
   ]
  },
  {
   "cell_type": "code",
   "execution_count": 53,
   "metadata": {},
   "outputs": [],
   "source": [
    "from sklearn.ensemble import GradientBoostingClassifier"
   ]
  },
  {
   "cell_type": "code",
   "execution_count": 54,
   "metadata": {},
   "outputs": [
    {
     "data": {
      "text/plain": [
       "GradientBoostingClassifier(ccp_alpha=0.0, criterion='friedman_mse', init=None,\n",
       "                           learning_rate=0.1, loss='deviance', max_depth=3,\n",
       "                           max_features=None, max_leaf_nodes=None,\n",
       "                           min_impurity_decrease=0.0, min_impurity_split=None,\n",
       "                           min_samples_leaf=1, min_samples_split=2,\n",
       "                           min_weight_fraction_leaf=0.0, n_estimators=100,\n",
       "                           n_iter_no_change=None, presort='deprecated',\n",
       "                           random_state=None, subsample=1.0, tol=0.0001,\n",
       "                           validation_fraction=0.1, verbose=0,\n",
       "                           warm_start=False)"
      ]
     },
     "execution_count": 54,
     "metadata": {},
     "output_type": "execute_result"
    }
   ],
   "source": [
    "gb_clf = GradientBoostingClassifier() #default GradientBoostingClassifier\n",
    "gb_clf.fit(X_train,y_train)"
   ]
  },
  {
   "cell_type": "code",
   "execution_count": 55,
   "metadata": {},
   "outputs": [
    {
     "name": "stdout",
     "output_type": "stream",
     "text": [
      "The auc score for the Default GradientBoost model on the training data is 0.966\n",
      "The auc score for the Statsbomb model on the training data is 0.81\n"
     ]
    },
    {
     "data": {
      "image/png": "[encoded data removed]",
      "text/plain": [
       "<Figure size 432x288 with 1 Axes>"
      ]
     },
     "metadata": {
      "needs_background": "light"
     },
     "output_type": "display_data"
    }
   ],
   "source": [
    "\n",
    "y_train_proba = gb_clf.predict_proba(X_train)\n",
    "plot_roc_curve(y_train,y_train_proba,train_statsbomb,model_label='Gradient Boost')\n",
    "plt.title('Performance on Training Data');\n",
    "\n",
    "print('The auc score for the Default GradientBoost model on the training data is {}'.format(round(roc_auc_score(y_train,y_train_proba[:,1]),3)))\n",
    "print('The auc score for the Statsbomb model on the training data is {}'.format(round(roc_auc_score(y_train,train_statsbomb),2)))"
   ]
  },
  {
   "cell_type": "markdown",
   "metadata": {},
   "source": [
    "The default GradientBoost model also works very well on the training data. Let's check it's performance on test data\n"
   ]
  },
  {
   "cell_type": "code",
   "execution_count": 56,
   "metadata": {},
   "outputs": [
    {
     "name": "stdout",
     "output_type": "stream",
     "text": [
      "The auc score for the GradientBoost model on the test data is 0.683\n",
      "The auc score for the Statsbomb model on the test data is 0.77\n"
     ]
    },
    {
     "data": {
      "image/png": "[encoded data removed]",
      "text/plain": [
       "<Figure size 432x288 with 1 Axes>"
      ]
     },
     "metadata": {
      "needs_background": "light"
     },
     "output_type": "display_data"
    }
   ],
   "source": [
    "y_test_proba = gb_clf.predict_proba(X_test)\n",
    "plot_roc_curve(y_test,y_test_proba,test_statsbomb,model_label='GradientBoost')\n",
    "plt.title('Performance on Test Data');\n",
    "\n",
    "print('The auc score for the GradientBoost model on the test data is {}'.format(round(roc_auc_score(y_test,y_test_proba[:,1]),3)))\n",
    "print('The auc score for the Statsbomb model on the test data is {}'.format(round(roc_auc_score(y_test,test_statsbomb),2)))"
   ]
  },
  {
   "cell_type": "markdown",
   "metadata": {},
   "source": [
    "Let's do some grid searching to optimize the performance of this model"
   ]
  },
  {
   "cell_type": "code",
   "execution_count": 57,
   "metadata": {},
   "outputs": [
    {
     "data": {
      "text/plain": [
       "GridSearchCV(cv=5, error_score=nan,\n",
       "             estimator=GradientBoostingClassifier(ccp_alpha=0.0,\n",
       "                                                  criterion='friedman_mse',\n",
       "                                                  init=None, learning_rate=0.1,\n",
       "                                                  loss='deviance', max_depth=3,\n",
       "                                                  max_features=None,\n",
       "                                                  max_leaf_nodes=None,\n",
       "                                                  min_impurity_decrease=0.0,\n",
       "                                                  min_impurity_split=None,\n",
       "                                                  min_samples_leaf=1,\n",
       "                                                  min_samples_split=2,\n",
       "                                                  min_weight_fraction_leaf=0.0,\n",
       "                                                  n_estimators=100,\n",
       "                                                  n_iter_no_c...\n",
       "                                                  subsample=1.0, tol=0.0001,\n",
       "                                                  validation_fraction=0.1,\n",
       "                                                  verbose=0, warm_start=False),\n",
       "             iid='deprecated', n_jobs=None,\n",
       "             param_grid={'learning_rate': [0.1, 0.25, 0.5, 1.0],\n",
       "                         'max_depth': [1, 2, 3],\n",
       "                         'n_estimators': [10, 25, 50, 75, 100, 250, 500, 1000],\n",
       "                         'subsample': [0.1, 0.25, 0.5, 1.0],\n",
       "                         'warm_start': [True, False]},\n",
       "             pre_dispatch='2*n_jobs', refit=True, return_train_score=False,\n",
       "             scoring='roc_auc', verbose=0)"
      ]
     },
     "execution_count": 57,
     "metadata": {},
     "output_type": "execute_result"
    }
   ],
   "source": [
    "param_grid={'max_depth':[1,2,3],'n_estimators':[10,25,50,75,100,250,500,1000],'learning_rate':[0.1,0.25,0.5,1.0],'subsample':[0.1,0.25,0.5,1.0],\n",
    "           'warm_start':[True,False]}\n",
    "gs_gb = GridSearchCV(GradientBoostingClassifier(),param_grid,cv=5,scoring='roc_auc')\n",
    "gs_gb.fit(X_train,y_train)"
   ]
  },
  {
   "cell_type": "code",
   "execution_count": 58,
   "metadata": {},
   "outputs": [
    {
     "data": {
      "text/plain": [
       "{'learning_rate': 0.1,\n",
       " 'max_depth': 1,\n",
       " 'n_estimators': 250,\n",
       " 'subsample': 1.0,\n",
       " 'warm_start': True}"
      ]
     },
     "execution_count": 58,
     "metadata": {},
     "output_type": "execute_result"
    }
   ],
   "source": [
    "gs_gb.best_params_"
   ]
  },
  {
   "cell_type": "code",
   "execution_count": 59,
   "metadata": {},
   "outputs": [
    {
     "data": {
      "text/plain": [
       "GradientBoostingClassifier(ccp_alpha=0.0, criterion='friedman_mse', init=None,\n",
       "                           learning_rate=0.1, loss='deviance', max_depth=1,\n",
       "                           max_features=None, max_leaf_nodes=None,\n",
       "                           min_impurity_decrease=0.0, min_impurity_split=None,\n",
       "                           min_samples_leaf=1, min_samples_split=2,\n",
       "                           min_weight_fraction_leaf=0.0, n_estimators=250,\n",
       "                           n_iter_no_change=None, presort='deprecated',\n",
       "                           random_state=None, subsample=1.0, tol=0.0001,\n",
       "                           validation_fraction=0.1, verbose=0, warm_start=True)"
      ]
     },
     "execution_count": 59,
     "metadata": {},
     "output_type": "execute_result"
    }
   ],
   "source": [
    "best_gb = gs_gb.best_estimator_\n",
    "best_gb.fit(X_train,y_train)"
   ]
  },
  {
   "cell_type": "code",
   "execution_count": 60,
   "metadata": {},
   "outputs": [],
   "source": [
    "y_test_proba = best_gb.predict_proba(X_test)"
   ]
  },
  {
   "cell_type": "code",
   "execution_count": 61,
   "metadata": {},
   "outputs": [
    {
     "name": "stdout",
     "output_type": "stream",
     "text": [
      "The auc score for the Best GradientBoost model on the test data is 0.733\n",
      "The auc score for the Statsbomb model on the test data is 0.77\n"
     ]
    },
    {
     "data": {
      "image/png": "[encoded data removed]",
      "text/plain": [
       "<Figure size 432x288 with 1 Axes>"
      ]
     },
     "metadata": {
      "needs_background": "light"
     },
     "output_type": "display_data"
    }
   ],
   "source": [
    "from sklearn.metrics import roc_auc_score\n",
    "plot_roc_curve(y_test,y_test_proba,test_statsbomb,model_label='Best GradientBoost Classifier')\n",
    "plt.title('Performance on Test Data');\n",
    "print('The auc score for the Best GradientBoost model on the test data is {}'.format(round(roc_auc_score(y_test,y_test_proba[:,1]),3)))\n",
    "print('The auc score for the Statsbomb model on the test data is {}'.format(round(roc_auc_score(y_test,test_statsbomb),2)))"
   ]
  },
  {
   "cell_type": "code",
   "execution_count": 62,
   "metadata": {},
   "outputs": [
    {
     "data": {
      "text/plain": [
       "['best_gradboost.joblib']"
      ]
     },
     "execution_count": 62,
     "metadata": {},
     "output_type": "execute_result"
    }
   ],
   "source": [
    "dump(best_gb,'best_gradboost.joblib')\n"
   ]
  },
  {
   "cell_type": "markdown",
   "metadata": {},
   "source": [
    "**xGBoost**"
   ]
  },
  {
   "cell_type": "code",
   "execution_count": 63,
   "metadata": {},
   "outputs": [],
   "source": [
    "import xgboost as xgb"
   ]
  },
  {
   "cell_type": "code",
   "execution_count": 64,
   "metadata": {},
   "outputs": [
    {
     "data": {
      "text/plain": [
       "XGBClassifier(base_score=0.5, booster=None, colsample_bylevel=1,\n",
       "              colsample_bynode=1, colsample_bytree=1, gamma=0, gpu_id=-1,\n",
       "              importance_type='gain', interaction_constraints=None,\n",
       "              learning_rate=0.300000012, max_delta_step=0, max_depth=6,\n",
       "              min_child_weight=1, missing=nan, monotone_constraints=None,\n",
       "              n_estimators=100, n_jobs=0, num_parallel_tree=1,\n",
       "              objective='binary:logistic', random_state=0, reg_alpha=0,\n",
       "              reg_lambda=1, scale_pos_weight=1, subsample=1, tree_method=None,\n",
       "              validate_parameters=False, verbosity=None)"
      ]
     },
     "execution_count": 64,
     "metadata": {},
     "output_type": "execute_result"
    }
   ],
   "source": [
    "xg_clf = xgb.XGBClassifier()\n",
    "xg_clf.fit(X_train,y_train)"
   ]
  },
  {
   "cell_type": "code",
   "execution_count": 65,
   "metadata": {},
   "outputs": [
    {
     "name": "stdout",
     "output_type": "stream",
     "text": [
      "The auc score for the Default xgboost model on the training data is 0.999\n",
      "The auc score for the Statsbomb model on the training data is 0.81\n"
     ]
    },
    {
     "data": {
      "image/png": "[encoded data removed]",
      "text/plain": [
       "<Figure size 432x288 with 1 Axes>"
      ]
     },
     "metadata": {
      "needs_background": "light"
     },
     "output_type": "display_data"
    }
   ],
   "source": [
    "\n",
    "y_train_proba = xg_clf.predict_proba(X_train)\n",
    "plot_roc_curve(y_train,y_train_proba,train_statsbomb,model_label='xgboost')\n",
    "plt.title('Performance on Training Data');\n",
    "\n",
    "print('The auc score for the Default xgboost model on the training data is {}'.format(round(roc_auc_score(y_train,y_train_proba[:,1]),3)))\n",
    "print('The auc score for the Statsbomb model on the training data is {}'.format(round(roc_auc_score(y_train,train_statsbomb),2)))"
   ]
  },
  {
   "cell_type": "code",
   "execution_count": 66,
   "metadata": {},
   "outputs": [
    {
     "data": {
      "text/plain": [
       "GridSearchCV(cv=5, error_score=nan,\n",
       "             estimator=XGBClassifier(base_score=None, booster=None,\n",
       "                                     colsample_bylevel=None,\n",
       "                                     colsample_bynode=None,\n",
       "                                     colsample_bytree=None, gamma=None,\n",
       "                                     gpu_id=None, importance_type='gain',\n",
       "                                     interaction_constraints=None,\n",
       "                                     learning_rate=None, max_delta_step=None,\n",
       "                                     max_depth=None, min_child_weight=None,\n",
       "                                     missing=nan, monotone_constraints=None,\n",
       "                                     n_estim...\n",
       "                                     reg_lambda=None, scale_pos_weight=None,\n",
       "                                     subsample=None, tree_method=None,\n",
       "                                     validate_parameters=False,\n",
       "                                     verbosity=None),\n",
       "             iid='deprecated', n_jobs=None,\n",
       "             param_grid={'colsample_bytree': [0.1, 0.5, 1],\n",
       "                         'learning_rate': [0.1, 0.25], 'max_depth': [1, 2, 3],\n",
       "                         'n_estimators': [50, 100, 250, 500],\n",
       "                         'subsample': [0.25, 0.5, 0.75]},\n",
       "             pre_dispatch='2*n_jobs', refit=True, return_train_score=False,\n",
       "             scoring='roc_auc', verbose=0)"
      ]
     },
     "execution_count": 66,
     "metadata": {},
     "output_type": "execute_result"
    }
   ],
   "source": [
    "param_grid = {'n_estimators':[50,100,250,500],'learning_rate':[0.1,0.25],'max_depth':[1,2,3],\n",
    "             'subsample':[0.25,0.5,0.75], 'colsample_bytree':[0.1,0.5,1]}\n",
    "gs_xgb = GridSearchCV(xgb.XGBClassifier(n_jobs=-1,),param_grid,cv=5,scoring='roc_auc')\n",
    "gs_xgb.fit(X_train,y_train)"
   ]
  },
  {
   "cell_type": "code",
   "execution_count": 67,
   "metadata": {},
   "outputs": [
    {
     "data": {
      "text/plain": [
       "{'colsample_bytree': 1,\n",
       " 'learning_rate': 0.25,\n",
       " 'max_depth': 1,\n",
       " 'n_estimators': 50,\n",
       " 'subsample': 0.75}"
      ]
     },
     "execution_count": 67,
     "metadata": {},
     "output_type": "execute_result"
    }
   ],
   "source": [
    "gs_xgb.best_params_"
   ]
  },
  {
   "cell_type": "code",
   "execution_count": 68,
   "metadata": {},
   "outputs": [],
   "source": [
    "best_xgb = gs_xgb.best_estimator_\n",
    "best_xgb.fit(X_train,y_train)\n",
    "\n",
    "\n",
    "y_test_proba = best_xgb.predict_proba(X_test)"
   ]
  },
  {
   "cell_type": "code",
   "execution_count": 69,
   "metadata": {},
   "outputs": [
    {
     "name": "stdout",
     "output_type": "stream",
     "text": [
      "The auc score for the Best XGB model on the test data is 0.732\n",
      "The auc score for the Statsbomb model on the test data is 0.77\n"
     ]
    },
    {
     "data": {
      "image/png": "[encoded data removed]",
      "text/plain": [
       "<Figure size 432x288 with 1 Axes>"
      ]
     },
     "metadata": {
      "needs_background": "light"
     },
     "output_type": "display_data"
    }
   ],
   "source": [
    "from sklearn.metrics import roc_auc_score\n",
    "plot_roc_curve(y_test,y_test_proba,test_statsbomb,model_label='Best XGB Classifier')\n",
    "plt.title('Performance on Test Data');\n",
    "print('The auc score for the Best XGB model on the test data is {}'.format(round(roc_auc_score(y_test,y_test_proba[:,1]),3)))\n",
    "print('The auc score for the Statsbomb model on the test data is {}'.format(round(roc_auc_score(y_test,test_statsbomb),2)))"
   ]
  },
  {
   "cell_type": "code",
   "execution_count": 70,
   "metadata": {},
   "outputs": [
    {
     "data": {
      "text/plain": [
       "['best_xgb.joblib']"
      ]
     },
     "execution_count": 70,
     "metadata": {},
     "output_type": "execute_result"
    }
   ],
   "source": [
    "dump(best_xgb,'best_xgb.joblib')"
   ]
  },
  {
   "cell_type": "markdown",
   "metadata": {},
   "source": [
    "Analyze feature importance for the above models"
   ]
  },
  {
   "cell_type": "code",
   "execution_count": 71,
   "metadata": {},
   "outputs": [],
   "source": [
    "from joblib import load\n",
    "import matplotlib.pyplot as plt\n",
    "import numpy as np\n",
    "import pandas as pd\n",
    "plt.style.use('fivethirtyeight')\n",
    "plt.rcParams.update({'font.size':12})"
   ]
  },
  {
   "cell_type": "markdown",
   "metadata": {},
   "source": [
    "Loading saved models"
   ]
  },
  {
   "cell_type": "code",
   "execution_count": 72,
   "metadata": {},
   "outputs": [],
   "source": [
    "best_logit = load('best_logit.joblib')\n",
    "best_xgb = load('best_xgb.joblib')\n",
    "best_gradboost = load('best_gradboost.joblib')"
   ]
  },
  {
   "cell_type": "markdown",
   "metadata": {},
   "source": [
    "An indirect way of capturing feature importance in logistic regression is to extract the coefficients for each feature."
   ]
  },
  {
   "cell_type": "code",
   "execution_count": 74,
   "metadata": {},
   "outputs": [
    {
     "data": {
      "text/plain": [
       "array([ 0.22790418, -0.2278875 ,  0.06679869,  0.01650319, -0.14354737,\n",
       "        0.06026218, -0.06577972,  0.00553422,  0.06026218, -0.25808969,\n",
       "        0.19784419,  0.06026218, -0.03964366,  0.03966035, -0.55452555,\n",
       "        0.41193534, -0.53363451])"
      ]
     },
     "execution_count": 74,
     "metadata": {},
     "output_type": "execute_result"
    }
   ],
   "source": [
    "# logistic regression\n",
    "logit_coefs = best_logit.coef_\n",
    "logit_coefs[0]"
   ]
  },
  {
   "cell_type": "code",
   "execution_count": 75,
   "metadata": {},
   "outputs": [
    {
     "data": {
      "text/plain": [
       "array([0.13806978, 0.        , 0.        , 0.        , 0.0740285 ,\n",
       "       0.        , 0.06234969, 0.        , 0.        , 0.14044124,\n",
       "       0.07196683, 0.        , 0.        , 0.        , 0.14649402,\n",
       "       0.19281025, 0.17383967], dtype=float32)"
      ]
     },
     "execution_count": 75,
     "metadata": {},
     "output_type": "execute_result"
    }
   ],
   "source": [
    "# xgBoost\n",
    "xgb_importances = best_xgb.feature_importances_\n",
    "xgb_importances"
   ]
  },
  {
   "cell_type": "code",
   "execution_count": 76,
   "metadata": {},
   "outputs": [
    {
     "data": {
      "text/plain": [
       "array([0.01598014, 0.03939182, 0.        , 0.        , 0.00377562,\n",
       "       0.        , 0.        , 0.        , 0.        , 0.04581719,\n",
       "       0.        , 0.        , 0.        , 0.        , 0.14639601,\n",
       "       0.60231174, 0.14632748])"
      ]
     },
     "execution_count": 76,
     "metadata": {},
     "output_type": "execute_result"
    }
   ],
   "source": [
    "# Gradient Boost\n",
    "gradboost_importances = best_gradboost.feature_importances_\n",
    "gradboost_importances"
   ]
  },
  {
   "cell_type": "markdown",
   "metadata": {},
   "source": [
    "Plotting them all together"
   ]
  },
  {
   "cell_type": "code",
   "execution_count": 84,
   "metadata": {},
   "outputs": [
    {
     "data": {
      "image/png": "[encoded data removed]",
      "text/plain": [
       "<Figure size 1440x720 with 3 Axes>"
      ]
     },
     "metadata": {},
     "output_type": "display_data"
    }
   ],
   "source": [
    "fig,(ax1,ax2,ax3) = plt.subplots(nrows=3,ncols=1,figsize=(20,10),sharex=True)\n",
    "\n",
    "#logistic regression plot\n",
    "ax1.bar(range(len(logit_coefs[0])),logit_coefs[0],align='center', color = 'cornflowerblue');\n",
    "ax1.axhline(y=0)\n",
    "ax1.set_ylabel('Feature Coefficients');\n",
    "ax1.set_title('Logistic Regression')\n",
    "\n",
    "#xgboost plot\n",
    "ax2.bar(range(len(xgb_importances)),xgb_importances,align='center', color = 'teal');\n",
    "ax2.set_ylabel('Feature Importance');\n",
    "ax2.set_title('XGBoost')\n",
    "\n",
    "#gradboost plot\n",
    "ax3.bar(range(len(xgb_importances)),xgb_importances,align='center', color ='salmon');\n",
    "ax3.set_xticks(np.arange(0,len(xgb_importances),1))\n",
    "ax3.set_xticklabels(['x0_body_part_name','x1_body_part_name','x0_key_pass_type',\n",
    "             'x1_key_pass_type','x2_key_pass_type','x3_key_pass_type',\n",
    "            'x0_key_pass_pattern','x1_key_pass_pattern','x2_key_pass_pattern',\n",
    "            'x0_cross_cutback_forward','x1_cross_cutback_forward','x2_cross_cutback_forward',\n",
    "            'x0_first_time_or_carry','x1_first_time_or_carry','shot_distance','shot_angle','pack_density']);\n",
    "plt.xticks(rotation=45);\n",
    "ax3.set_ylabel('Feature Importances');\n",
    "ax3.set_title('Gradient Boost')\n",
    "\n",
    "\n",
    "plt.tight_layout()\n",
    "\n",
    "fig.savefig('feature_importance.png')"
   ]
  },
  {
   "cell_type": "markdown",
   "metadata": {},
   "source": [
    "\n",
    "Observations:\n",
    "\n",
    "- The most important features are unsurprisingly the shot distance, shot angle and pack density. This makes intuitive sense\n",
    "- The most important categorical features seem to be the body part used to take the shot, what type of pass preceded the shot and whether it was taken first time. This also makes sense when considering the statistical inference and data exploration results\n",
    "- XGBoost and Gradient Boost do not consider some of the varieties within each categorical variable important, while Logistic regression gives small coefficients to most of these values\n",
    "- Of the features considered, the pattern of play which resulted in the key pass and the pass direction are considered least important"
   ]
  },
  {
   "cell_type": "code",
   "execution_count": null,
   "metadata": {},
   "outputs": [],
   "source": []
  }
 ],
 "metadata": {
  "kernelspec": {
   "display_name": "Python 3",
   "language": "python",
   "name": "python3"
  },
  "language_info": {
   "codemirror_mode": {
    "name": "ipython",
    "version": 3
   },
   "file_extension": ".py",
   "mimetype": "text/x-python",
   "name": "python",
   "nbconvert_exporter": "python",
   "pygments_lexer": "ipython3",
   "version": "3.7.3"
  }
 },
 "nbformat": 4,
 "nbformat_minor": 2
}
