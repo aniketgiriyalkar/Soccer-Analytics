{
 "cells": [
  {
   "cell_type": "markdown",
   "metadata": {},
   "source": [
    "**Import the required modules**"
   ]
  },
  {
   "cell_type": "code",
   "execution_count": 1,
   "metadata": {},
   "outputs": [],
   "source": [
    "import pandas as pd\n",
    "import numpy as np\n",
    "import matplotlib.pyplot as plt\n",
    "import glob"
   ]
  },
  {
   "cell_type": "markdown",
   "metadata": {},
   "source": [
    "Data is manually downloaded from StatsBomb open source github repository. This is stored in the local project directory. The model we will be building is based on World Cup 2018 data."
   ]
  },
  {
   "cell_type": "code",
   "execution_count": 2,
   "metadata": {},
   "outputs": [],
   "source": [
    "#extracting information about which leagues\n",
    "filepath = \"C:\\\\Users\\\\anike\\\\PycharmProjects\\\\Soccer-Analytics\\\\Soccer-Analytics\\\\open-data\\\\data\\\\matches\\\\\"\n",
    "competitions =[\"43\"]\n",
    "league_list = []\n",
    "for comp in competitions:\n",
    "    path = filepath+comp\n",
    "#     print(path)\n",
    "    league_list.extend(glob.glob(path+\"\\\\*.json\"))"
   ]
  },
  {
   "cell_type": "code",
   "execution_count": 21,
   "metadata": {},
   "outputs": [
    {
     "data": {
      "text/plain": [
       "[7562,\n",
       " 7549,\n",
       " 7565,\n",
       " 7581,\n",
       " 7557,\n",
       " 7566,\n",
       " 7548,\n",
       " 7534,\n",
       " 7576,\n",
       " 7540,\n",
       " 7568,\n",
       " 7569,\n",
       " 7570,\n",
       " 8655,\n",
       " 8657,\n",
       " 7543,\n",
       " 7558,\n",
       " 7529,\n",
       " 8650,\n",
       " 7546,\n",
       " 7537,\n",
       " 7580,\n",
       " 7545,\n",
       " 7536,\n",
       " 7530,\n",
       " 7535,\n",
       " 7584,\n",
       " 8649,\n",
       " 7538,\n",
       " 7533,\n",
       " 7560,\n",
       " 7525,\n",
       " 7532,\n",
       " 7555,\n",
       " 7571,\n",
       " 8652,\n",
       " 7553,\n",
       " 7559,\n",
       " 7577,\n",
       " 7539,\n",
       " 7550,\n",
       " 7556,\n",
       " 7561,\n",
       " 7586,\n",
       " 7563,\n",
       " 7579,\n",
       " 7578,\n",
       " 8651,\n",
       " 7531,\n",
       " 7552,\n",
       " 8658,\n",
       " 7585,\n",
       " 7554,\n",
       " 7542,\n",
       " 7551,\n",
       " 7564,\n",
       " 7567,\n",
       " 7544,\n",
       " 7541,\n",
       " 7583,\n",
       " 7572,\n",
       " 7547,\n",
       " 7582,\n",
       " 8656]"
      ]
     },
     "execution_count": 21,
     "metadata": {},
     "output_type": "execute_result"
    }
   ],
   "source": [
    "match_list"
   ]
  },
  {
   "cell_type": "code",
   "execution_count": 3,
   "metadata": {},
   "outputs": [],
   "source": [
    "#extracting match specific information\n",
    "match_list=[]\n",
    "home_list=[]\n",
    "match_dict={}\n",
    "for league in league_list:\n",
    "#     print(league)\n",
    "    df_matches=pd.read_json(league)\n",
    "    match_list.extend(df_matches['match_id'].values)\n",
    "    for i in range(0,df_matches.shape[0]):\n",
    "        home_list.append(df_matches['home_team'].values[i]['home_team_name'])\n",
    "\n",
    "comb_list=list(zip(match_list,home_list))\n",
    "match_dict={match:home for match,home in comb_list}"
   ]
  },
  {
   "cell_type": "markdown",
   "metadata": {},
   "source": [
    "The data that contains shot specific information is extracted directly from the source."
   ]
  },
  {
   "cell_type": "code",
   "execution_count": 4,
   "metadata": {},
   "outputs": [],
   "source": [
    "eventspath = \"C:\\\\Users\\\\anike\\\\PycharmProjects\\\\Soccer-Analytics\\\\Soccer-Analytics\\\\open-data\\\\data\\\\events\\\\\"\n",
    "shots_list=[] # all shots\n",
    "loc_list=[] #all shot locations\n",
    "timestamp_list=[] #time at which shot was taken\n",
    "outcome_name_list = [] #all shot outcomes\n",
    "outcome_id_list=[] #all shot outcome ids as per data\n",
    "bodypart_name_list = [] #bodypart involved in shot\n",
    "bodypart_id_list=[] #bodypart ids as per data\n",
    "technique_name_list = [] #technique used in shot\n",
    "technique_id_list=[] #technique ids as per data\n",
    "type_name_list = [] #play pattern names\n",
    "type_id_list=[] #play pattern ids\n",
    "first_time_list=[] #whether shot was taken without a preceding touch \n",
    "statsbomb_xg_list = [] #statsbomb's xG prediction\n",
    "key_pass_type_list=[] #the key pass leading up to the shot\n",
    "key_pass_pattern_list=[] # type of key pass event\n",
    "player_list=[] #the player who took the shot\n",
    "home_or_away=[] #the team the player belongs to\n",
    "preceding_event_list=[]#the event preceding the shot\n",
    "preceding_event_player_list=[]#the player involved in preceding event\n",
    "preceding_event_team_list=[]#the team of the player involved\n",
    "cross_list=[]#whether a key pass is a cross\n",
    "cutback_list=[]#whether a key pass is a cutback"
   ]
  },
  {
   "cell_type": "code",
   "execution_count": 5,
   "metadata": {},
   "outputs": [],
   "source": [
    "#extracting the above information\n",
    "for match in match_list:\n",
    "    matchname = str(match)\n",
    "    path = eventspath+matchname+\".json\"\n",
    "    df_events=pd.read_json(path)\n",
    "    df_shots = df_events[['index','timestamp','shot','location','player','possession_team']].dropna()\n",
    "    shots_list.append(df_shots.dropna().shape[0])\n",
    "    loc_list.extend(list(df_shots['location'].values))\n",
    "    timestamp_list.extend(list(df_shots['timestamp'].values))\n",
    "    for i in range(0,len(df_shots)):\n",
    "        outcome_name_list.append(df_shots.iloc[i][2]['outcome']['name'])\n",
    "        outcome_id_list.append(df_shots.iloc[i][2]['outcome']['id'])\n",
    "        bodypart_name_list.append(df_shots.iloc[i][2]['body_part']['name'])\n",
    "        bodypart_id_list.append(df_shots.iloc[i][2]['body_part']['id'])\n",
    "        technique_name_list.append(df_shots.iloc[i][2]['technique']['name'])\n",
    "        technique_id_list.append(df_shots.iloc[i][2]['technique']['id'])\n",
    "        type_name_list.append(df_shots.iloc[i][2]['type']['name'])\n",
    "        type_id_list.append(df_shots.iloc[i][2]['type']['id'])\n",
    "        player_list.append(df_shots.iloc[i][4]['name'])\n",
    "        if df_shots.iloc[i][5]['name'] == match_dict[match]:\n",
    "            home_or_away.append('home')\n",
    "        else:\n",
    "            home_or_away.append('away')\n",
    "#         team_list.append(df_shots.iloc[i][5]['name'])\n",
    "        \n",
    "        #Whether a shot was a first time shot is indicated by a Boolean. Many shots are not first time shots\n",
    "        #Error handling is used to not stop data extraction\n",
    "        try:\n",
    "            first_time_list.append(df_shots.iloc[i][2]['first_time'])\n",
    "        except:\n",
    "            first_time_list.append(False)\n",
    "        \n",
    "        #Many shots do not have a preceding key pass. Error handling is used in such cases\n",
    "        try:\n",
    "            key_pass = df_shots.iloc[i][2]['key_pass_id']\n",
    "            filt1 = df_events['id']==key_pass\n",
    "            pass_info = df_events[filt1].dropna(axis='columns')['pass']\n",
    "            key_pass_type_list.append(pass_info.iloc[0]['height']['name'])\n",
    "            pattern_info = df_events[filt1].dropna(axis='columns')['play_pattern']\n",
    "            key_pass_pattern_list.append(pattern_info.iloc[0]['name'])\n",
    "            try:\n",
    "                if pass_info.iloc[0]['cross']==True:\n",
    "                    cross_list.append(True)\n",
    "                else:\n",
    "                    cross_list.append(False)\n",
    "            except KeyError:\n",
    "                cross_list.append(False)\n",
    "            try:\n",
    "                if pass_info.iloc[0]['cut_back']==True:\n",
    "                    cutback_list.append(True)\n",
    "                else:\n",
    "                    cutback_list.append(False)\n",
    "            except KeyError:\n",
    "                cutback_list.append(False)\n",
    "                \n",
    "        except KeyError:\n",
    "            key_pass_type_list.append(np.nan)\n",
    "            cutback_list.append(False)\n",
    "            cross_list.append(False)\n",
    "            key_pass_pattern_list.append(np.nan)\n",
    "        #Extracting the event preceding the shot\n",
    "        idx_filt = df_shots.iloc[i,0]-1\n",
    "        filt = df_events['index']==idx_filt\n",
    "        df_events_filt=df_events[filt].dropna(axis='columns')\n",
    "        preceding_event_list.append(df_events_filt['type'].values[0]['name'])\n",
    "        try:\n",
    "            preceding_event_player_list.append(df_events_filt['player'].values[0]['name'])\n",
    "        except:\n",
    "            preceding_event_player_list.append(np.nan)\n",
    "        preceding_event_team_list.append(df_events_filt['possession_team'].values[0]['name'])\n",
    "        \n",
    "        #extracting statsbomb xG\n",
    "        statsbomb_xg_list.append(df_shots.iloc[i][2]['statsbomb_xg'])\n"
   ]
  },
  {
   "cell_type": "markdown",
   "metadata": {},
   "source": [
    "The most interesting things about the data is that it contains the exact locations of all players at the time of the shot. The data has to be worked upon in a way so that is can be useful for us.\n",
    "\n",
    "The following function calculates the number of players between the shot and the goal. It makes use of a baycentric technique(link - http://blackpawn.com/texts/pointinpoly/), where in it considers the triangle created by shot location and edges of goal. Further, it evaluates each player location as to whether it lies in the triangle. Number of players in the triangle will be stored as the 'pack_density'."
   ]
  },
  {
   "cell_type": "code",
   "execution_count": 6,
   "metadata": {},
   "outputs": [],
   "source": [
    "def vectorization(pointa, pointb):\n",
    "    '''\n",
    "    Given two points, create a vector from the first to the second\n",
    "    Params:\n",
    "        pointa, pointb - x,y co-ordinates (list)\n",
    "    Returns:\n",
    "        vector from point a to point b\n",
    "    '''\n",
    "    return [pointb[0]-pointa[0], pointb[1]-pointa[1]]\n",
    "\n",
    "\n",
    "def liesInside(point_shot, point_goal1, point_goal2, point_freeze):\n",
    "    '''\n",
    "    Given the 3 vertices of a triangle, this function determines if a 4th\n",
    "    point lies inside the triangle\n",
    "    Params:\n",
    "        point_shot - shot location x,y (list)\n",
    "        point_goal1 and point_goal2 - goal edges x,y (list)\n",
    "        point_freeze - player location x,y(list)\n",
    "    Return:\n",
    "        True or False (boolean)\n",
    "    \n",
    "    '''\n",
    "    v2 = vectorization(point_freeze, point_shot)\n",
    "    v0 = vectorization(point_goal1, point_shot)\n",
    "    v1 = vectorization(point_goal2, point_shot)\n",
    "\n",
    "    u = (np.dot(v1, v1)*np.dot(v2, v0)-np.dot(v1, v0)*np.dot(v2, v1)) / \\\n",
    "        (np.dot(v0, v0)*np.dot(v1, v1)-np.dot(v0, v1)*np.dot(v1, v0))\n",
    "    v = (np.dot(v0, v0)*np.dot(v2, v1)-np.dot(v0, v1)*np.dot(v2, v0)) / \\\n",
    "        (np.dot(v0, v0)*np.dot(v1, v1)-np.dot(v0, v1)*np.dot(v1, v0))\n",
    "\n",
    "    if u < 0 or v < 0:\n",
    "        return False\n",
    "    elif u > 1 or v > 1:\n",
    "        return False\n",
    "    elif u+v > 1:\n",
    "        return False\n",
    "    else:\n",
    "        return True\n",
    "    \n",
    "#defining edges of goal\n",
    "goal_x1y1 = [120,36]\n",
    "goal_x2y2 = [120,44]\n",
    "pack_density_list = []"
   ]
  },
  {
   "cell_type": "code",
   "execution_count": 7,
   "metadata": {},
   "outputs": [],
   "source": [
    "for match in match_list:\n",
    "    matchname = str(match)\n",
    "    path = eventspath+matchname+\".json\"\n",
    "    df_events=pd.read_json(path)\n",
    "    df_shots = df_events[['index','shot','location','player','possession_team']].dropna()\n",
    "    \n",
    "    for i in range(0,len(df_shots)):\n",
    "        shot_loc=df_shots['location'].iloc[i]\n",
    "        freeze_frame_list=[]\n",
    "        # in cases of penalties, a freeze frame is not provided so a KeyError will be raised\n",
    "        # using error handling to append 1 in such cases\n",
    "        try:\n",
    "            for j in range(0,len(df_shots['shot'].iloc[i]['freeze_frame'])):\n",
    "                location=df_shots['shot'].iloc[i]['freeze_frame'][j]['location']\n",
    "                freeze_frame_list.append(liesInside(shot_loc,goal_x1y1,goal_x2y2,location))\n",
    "        except KeyError:\n",
    "            freeze_frame_list.append(1) \n",
    "        pack_density_list.append(sum(freeze_frame_list))"
   ]
  },
  {
   "cell_type": "markdown",
   "metadata": {},
   "source": [
    "Euclidean distance is used to calculate the distance of shot location from center of the goal and and angle made between shot location and the goal edges. \n",
    "Angle is calculated using the Cosine rule."
   ]
  },
  {
   "cell_type": "code",
   "execution_count": 8,
   "metadata": {},
   "outputs": [],
   "source": [
    "df = pd.DataFrame(loc_list)"
   ]
  },
  {
   "cell_type": "code",
   "execution_count": 9,
   "metadata": {},
   "outputs": [],
   "source": [
    "df.columns = ['shot_x','shot_y']\n",
    "df['shot_distance']=round(np.sqrt((df['shot_x']-120)**2+(df['shot_y']-40)**2),1)\n",
    "df['shot_a'] = np.sqrt((df['shot_x']-120)**2+(df['shot_y']-36)**2)\n",
    "df['shot_b']=np.sqrt((df['shot_x']-120)**2+(df['shot_y']-44)**2)\n",
    "df['shot_angle']=np.arccos((df['shot_a']**2+df['shot_b']**2-64)/(2*df['shot_a']*df['shot_b']))#calculating angle using cosine rule\n",
    "df['shot_angle']=np.degrees(df['shot_angle'])\n",
    "df['shot_angle']=round(df['shot_angle'],1)"
   ]
  },
  {
   "cell_type": "markdown",
   "metadata": {},
   "source": [
    "Adding the remaining features to the dataframe."
   ]
  },
  {
   "cell_type": "code",
   "execution_count": 10,
   "metadata": {},
   "outputs": [],
   "source": [
    "df['timestamp']=timestamp_list\n",
    "df['outcome_name']=outcome_name_list\n",
    "df['outcome_id']=outcome_id_list\n",
    "df['body_part_name']=bodypart_name_list\n",
    "df['body_part_id']=bodypart_id_list\n",
    "df['technique_name']=technique_name_list\n",
    "df['technique_id']=technique_id_list\n",
    "df['type_name']=type_name_list\n",
    "df['type_id']=type_id_list\n",
    "df['first_time']=first_time_list\n",
    "df['preceding_event']=preceding_event_list\n",
    "df['pack_density']=pack_density_list\n",
    "df['shot_player']=player_list\n",
    "df['home_or_away']=home_or_away\n",
    "df['key_pass_type']=key_pass_type_list\n",
    "df['key_pass_pattern']=key_pass_pattern_list\n",
    "df['isCross']=cross_list\n",
    "df['isCutback']=cutback_list\n",
    "df['preceding_event']=preceding_event_list\n",
    "df['preceding_event_player']=preceding_event_player_list\n",
    "df['preceding_event_team']=preceding_event_team_list\n",
    "df['statsbomb_xg']=statsbomb_xg_list"
   ]
  },
  {
   "cell_type": "code",
   "execution_count": 11,
   "metadata": {},
   "outputs": [
    {
     "data": {
      "text/plain": [
       "shot_x                      0\n",
       "shot_y                      0\n",
       "shot_distance               0\n",
       "shot_a                      0\n",
       "shot_b                      0\n",
       "shot_angle                  0\n",
       "timestamp                   0\n",
       "outcome_name                0\n",
       "outcome_id                  0\n",
       "body_part_name              0\n",
       "body_part_id                0\n",
       "technique_name              0\n",
       "technique_id                0\n",
       "type_name                   0\n",
       "type_id                     0\n",
       "first_time                  0\n",
       "preceding_event             0\n",
       "pack_density                0\n",
       "shot_player                 0\n",
       "home_or_away                0\n",
       "key_pass_type             526\n",
       "key_pass_pattern          526\n",
       "isCross                     0\n",
       "isCutback                   0\n",
       "preceding_event_player     13\n",
       "preceding_event_team        0\n",
       "statsbomb_xg                0\n",
       "dtype: int64"
      ]
     },
     "execution_count": 11,
     "metadata": {},
     "output_type": "execute_result"
    }
   ],
   "source": [
    "df.isna().sum()"
   ]
  },
  {
   "cell_type": "markdown",
   "metadata": {},
   "source": [
    "There are some missing values. A lot of shots don't have an associated key pass which is expected as many shots don't have a key pass before it for e.g a direct freekick. These missing values will be handled later. 13 preceding_event_player values are missing. Let us see why...\n"
   ]
  },
  {
   "cell_type": "code",
   "execution_count": 13,
   "metadata": {},
   "outputs": [
    {
     "data": {
      "text/html": [
       "<div>\n",
       "<style scoped>\n",
       "    .dataframe tbody tr th:only-of-type {\n",
       "        vertical-align: middle;\n",
       "    }\n",
       "\n",
       "    .dataframe tbody tr th {\n",
       "        vertical-align: top;\n",
       "    }\n",
       "\n",
       "    .dataframe thead th {\n",
       "        text-align: right;\n",
       "    }\n",
       "</style>\n",
       "<table border=\"1\" class=\"dataframe\">\n",
       "  <thead>\n",
       "    <tr style=\"text-align: right;\">\n",
       "      <th></th>\n",
       "      <th>preceding_event</th>\n",
       "      <th>preceding_event_player</th>\n",
       "      <th>preceding_event_team</th>\n",
       "    </tr>\n",
       "  </thead>\n",
       "  <tbody>\n",
       "    <tr>\n",
       "      <th>36</th>\n",
       "      <td>Tactical Shift</td>\n",
       "      <td>NaN</td>\n",
       "      <td>Nigeria</td>\n",
       "    </tr>\n",
       "    <tr>\n",
       "      <th>77</th>\n",
       "      <td>Camera On</td>\n",
       "      <td>NaN</td>\n",
       "      <td>Denmark</td>\n",
       "    </tr>\n",
       "    <tr>\n",
       "      <th>108</th>\n",
       "      <td>Half Start</td>\n",
       "      <td>NaN</td>\n",
       "      <td>Denmark</td>\n",
       "    </tr>\n",
       "    <tr>\n",
       "      <th>268</th>\n",
       "      <td>Camera On</td>\n",
       "      <td>NaN</td>\n",
       "      <td>Russia</td>\n",
       "    </tr>\n",
       "    <tr>\n",
       "      <th>430</th>\n",
       "      <td>Injury Stoppage</td>\n",
       "      <td>NaN</td>\n",
       "      <td>Spain</td>\n",
       "    </tr>\n",
       "    <tr>\n",
       "      <th>926</th>\n",
       "      <td>Camera On</td>\n",
       "      <td>NaN</td>\n",
       "      <td>Croatia</td>\n",
       "    </tr>\n",
       "    <tr>\n",
       "      <th>928</th>\n",
       "      <td>Half Start</td>\n",
       "      <td>NaN</td>\n",
       "      <td>Croatia</td>\n",
       "    </tr>\n",
       "    <tr>\n",
       "      <th>994</th>\n",
       "      <td>Tactical Shift</td>\n",
       "      <td>NaN</td>\n",
       "      <td>Saudi Arabia</td>\n",
       "    </tr>\n",
       "    <tr>\n",
       "      <th>1138</th>\n",
       "      <td>Camera On</td>\n",
       "      <td>NaN</td>\n",
       "      <td>Switzerland</td>\n",
       "    </tr>\n",
       "    <tr>\n",
       "      <th>1367</th>\n",
       "      <td>Half Start</td>\n",
       "      <td>NaN</td>\n",
       "      <td>England</td>\n",
       "    </tr>\n",
       "    <tr>\n",
       "      <th>1393</th>\n",
       "      <td>Camera On</td>\n",
       "      <td>NaN</td>\n",
       "      <td>England</td>\n",
       "    </tr>\n",
       "    <tr>\n",
       "      <th>1585</th>\n",
       "      <td>Camera On</td>\n",
       "      <td>NaN</td>\n",
       "      <td>Mexico</td>\n",
       "    </tr>\n",
       "    <tr>\n",
       "      <th>1664</th>\n",
       "      <td>Half Start</td>\n",
       "      <td>NaN</td>\n",
       "      <td>Spain</td>\n",
       "    </tr>\n",
       "  </tbody>\n",
       "</table>\n",
       "</div>"
      ],
      "text/plain": [
       "      preceding_event preceding_event_player preceding_event_team\n",
       "36     Tactical Shift                    NaN              Nigeria\n",
       "77          Camera On                    NaN              Denmark\n",
       "108        Half Start                    NaN              Denmark\n",
       "268         Camera On                    NaN               Russia\n",
       "430   Injury Stoppage                    NaN                Spain\n",
       "926         Camera On                    NaN              Croatia\n",
       "928        Half Start                    NaN              Croatia\n",
       "994    Tactical Shift                    NaN         Saudi Arabia\n",
       "1138        Camera On                    NaN          Switzerland\n",
       "1367       Half Start                    NaN              England\n",
       "1393        Camera On                    NaN              England\n",
       "1585        Camera On                    NaN               Mexico\n",
       "1664       Half Start                    NaN                Spain"
      ]
     },
     "execution_count": 13,
     "metadata": {},
     "output_type": "execute_result"
    }
   ],
   "source": [
    "#analyzing missing shot_angle\n",
    "filt1=df['preceding_event_player'].isna()\n",
    "df[filt1][['preceding_event','preceding_event_player','preceding_event_team']]"
   ]
  },
  {
   "cell_type": "markdown",
   "metadata": {},
   "source": [
    "We can see that the preceding events cannot be linked to a player. And the corresponding events were not that important in context of shots. Thus, it makes sense to drop these rows. "
   ]
  },
  {
   "cell_type": "code",
   "execution_count": 14,
   "metadata": {},
   "outputs": [],
   "source": [
    "df=df.dropna(how='any',subset=['preceding_event_player'])"
   ]
  },
  {
   "cell_type": "code",
   "execution_count": 15,
   "metadata": {},
   "outputs": [
    {
     "data": {
      "text/plain": [
       "Regular Play      520\n",
       "From Throw In     201\n",
       "From Corner       200\n",
       "From Free Kick    161\n",
       "From Counter       44\n",
       "From Goal Kick     30\n",
       "From Keeper        14\n",
       "From Kick Off       7\n",
       "Other               2\n",
       "Name: key_pass_pattern, dtype: int64"
      ]
     },
     "execution_count": 15,
     "metadata": {},
     "output_type": "execute_result"
    }
   ],
   "source": [
    "df['key_pass_pattern'].value_counts()"
   ]
  },
  {
   "cell_type": "markdown",
   "metadata": {},
   "source": [
    "Since a lot of shots don't have an associated key pass prior to the shot. We assign the value 'None' to shots which are missing key pass information."
   ]
  },
  {
   "cell_type": "code",
   "execution_count": 16,
   "metadata": {},
   "outputs": [],
   "source": [
    "key_pass_type_list=[]\n",
    "key_pass_pattern_list=[]\n",
    "for index,row in df.iterrows():\n",
    "        if row['key_pass_type'] not in ['Ground Pass','Low Pass','High Pass']:\n",
    "            key_pass_type_list.append('None')\n",
    "            key_pass_pattern_list.append('None')\n",
    "        else:\n",
    "            key_pass_type_list.append(row['key_pass_type'])\n",
    "            key_pass_pattern_list.append(row['key_pass_pattern'])"
   ]
  },
  {
   "cell_type": "code",
   "execution_count": 17,
   "metadata": {},
   "outputs": [],
   "source": [
    "df['key_pass_type']=key_pass_type_list\n",
    "df['key_pass_pattern']=key_pass_pattern_list"
   ]
  },
  {
   "cell_type": "code",
   "execution_count": 18,
   "metadata": {},
   "outputs": [
    {
     "data": {
      "text/plain": [
       "shot_x                    0\n",
       "shot_y                    0\n",
       "shot_distance             0\n",
       "shot_a                    0\n",
       "shot_b                    0\n",
       "shot_angle                0\n",
       "timestamp                 0\n",
       "outcome_name              0\n",
       "outcome_id                0\n",
       "body_part_name            0\n",
       "body_part_id              0\n",
       "technique_name            0\n",
       "technique_id              0\n",
       "type_name                 0\n",
       "type_id                   0\n",
       "first_time                0\n",
       "preceding_event           0\n",
       "pack_density              0\n",
       "shot_player               0\n",
       "home_or_away              0\n",
       "key_pass_type             0\n",
       "key_pass_pattern          0\n",
       "isCross                   0\n",
       "isCutback                 0\n",
       "preceding_event_player    0\n",
       "preceding_event_team      0\n",
       "statsbomb_xg              0\n",
       "dtype: int64"
      ]
     },
     "execution_count": 18,
     "metadata": {},
     "output_type": "execute_result"
    }
   ],
   "source": [
    "df.isna().sum()"
   ]
  },
  {
   "cell_type": "markdown",
   "metadata": {},
   "source": [
    "Now that there are no missing values in the dataframe, we go ahead and pickle(a serialized way of storing a Pandas dataframe) this dataframe."
   ]
  },
  {
   "cell_type": "code",
   "execution_count": 19,
   "metadata": {},
   "outputs": [],
   "source": [
    "df.to_pickle('./WC2018_preprocessed.pkl'"
   ]
  },
  {
   "cell_type": "code",
   "execution_count": null,
   "metadata": {},
   "outputs": [],
   "source": []
  }
 ],
 "metadata": {
  "kernelspec": {
   "display_name": "Python 3",
   "language": "python",
   "name": "python3"
  },
  "language_info": {
   "codemirror_mode": {
    "name": "ipython",
    "version": 3
   },
   "file_extension": ".py",
   "mimetype": "text/x-python",
   "name": "python",
   "nbconvert_exporter": "python",
   "pygments_lexer": "ipython3",
   "version": "3.7.3"
  }
 },
 "nbformat": 4,
 "nbformat_minor": 2
}
